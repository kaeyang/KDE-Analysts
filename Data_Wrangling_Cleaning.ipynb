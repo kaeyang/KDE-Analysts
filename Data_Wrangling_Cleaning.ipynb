{
 "metadata": {
  "language_info": {
   "codemirror_mode": {
    "name": "ipython",
    "version": 3
   },
   "file_extension": ".py",
   "mimetype": "text/x-python",
   "name": "python",
   "nbconvert_exporter": "python",
   "pygments_lexer": "ipython3",
   "version": "3.8.3-final"
  },
  "orig_nbformat": 2,
  "kernelspec": {
   "name": "python3",
   "display_name": "Python 3.8.3 64-bit (conda)",
   "metadata": {
    "interpreter": {
     "hash": "42588fd11209419b7c81abe23e31a1d2101f60811b02170c268e57ebb57d5d9a"
    }
   }
  }
 },
 "nbformat": 4,
 "nbformat_minor": 2,
 "cells": [
  {
   "source": [
    "<h1> Data Cleaning and Wrangling </h1>"
   ],
   "cell_type": "markdown",
   "metadata": {}
  },
  {
   "cell_type": "code",
   "execution_count": 177,
   "metadata": {},
   "outputs": [],
   "source": [
    "# libraries used\n",
    "\n",
    "import pandas as pd\n",
    "import numpy as np\n",
    "import seaborn as sns\n",
    "import matplotlib.pyplot as plt\n",
    "import os\n",
    "import datetime"
   ]
  },
  {
   "cell_type": "code",
   "execution_count": 178,
   "metadata": {},
   "outputs": [],
   "source": [
    "# Initial Settings\n",
    "\n",
    "pd.options.mode.chained_assignment = None  # default='warn'"
   ]
  },
  {
   "source": [
    "<h2> Importing Bikeshare Station Data</h2>"
   ],
   "cell_type": "markdown",
   "metadata": {}
  },
  {
   "cell_type": "code",
   "execution_count": 179,
   "metadata": {},
   "outputs": [
    {
     "output_type": "execute_result",
     "data": {
      "text/plain": [
       "   Station Id                     Station Name        lat        lon  capacity\n",
       "0        7000     Fort York  Blvd / Capreol Ct  43.639832 -79.395954        35\n",
       "1        7001  Lower Jarvis St / The Esplanade  43.647830 -79.370698        15\n",
       "2        7002       St. George St / Bloor St W  43.667333 -79.399429        19\n",
       "3        7003         Madison Ave / Bloor St W  43.667158 -79.402761        15\n",
       "4        7004          University Ave / Elm St  43.656518 -79.389099        11"
      ],
      "text/html": "<div>\n<style scoped>\n    .dataframe tbody tr th:only-of-type {\n        vertical-align: middle;\n    }\n\n    .dataframe tbody tr th {\n        vertical-align: top;\n    }\n\n    .dataframe thead th {\n        text-align: right;\n    }\n</style>\n<table border=\"1\" class=\"dataframe\">\n  <thead>\n    <tr style=\"text-align: right;\">\n      <th></th>\n      <th>Station Id</th>\n      <th>Station Name</th>\n      <th>lat</th>\n      <th>lon</th>\n      <th>capacity</th>\n    </tr>\n  </thead>\n  <tbody>\n    <tr>\n      <th>0</th>\n      <td>7000</td>\n      <td>Fort York  Blvd / Capreol Ct</td>\n      <td>43.639832</td>\n      <td>-79.395954</td>\n      <td>35</td>\n    </tr>\n    <tr>\n      <th>1</th>\n      <td>7001</td>\n      <td>Lower Jarvis St / The Esplanade</td>\n      <td>43.647830</td>\n      <td>-79.370698</td>\n      <td>15</td>\n    </tr>\n    <tr>\n      <th>2</th>\n      <td>7002</td>\n      <td>St. George St / Bloor St W</td>\n      <td>43.667333</td>\n      <td>-79.399429</td>\n      <td>19</td>\n    </tr>\n    <tr>\n      <th>3</th>\n      <td>7003</td>\n      <td>Madison Ave / Bloor St W</td>\n      <td>43.667158</td>\n      <td>-79.402761</td>\n      <td>15</td>\n    </tr>\n    <tr>\n      <th>4</th>\n      <td>7004</td>\n      <td>University Ave / Elm St</td>\n      <td>43.656518</td>\n      <td>-79.389099</td>\n      <td>11</td>\n    </tr>\n  </tbody>\n</table>\n</div>"
     },
     "metadata": {},
     "execution_count": 179
    }
   ],
   "source": [
    "station_df = pd.read_csv(\"bikeshare_stations.csv\")\n",
    "station_df.head()\n",
    "\n",
    "# We can see that each row entry represents a singular location/station identified by it's Id"
   ]
  },
  {
   "cell_type": "code",
   "execution_count": 180,
   "metadata": {},
   "outputs": [
    {
     "output_type": "stream",
     "name": "stdout",
     "text": [
      "<class 'pandas.core.frame.DataFrame'>\nRangeIndex: 610 entries, 0 to 609\nData columns (total 5 columns):\n #   Column        Non-Null Count  Dtype  \n---  ------        --------------  -----  \n 0   Station Id    610 non-null    int64  \n 1   Station Name  610 non-null    object \n 2   lat           610 non-null    float64\n 3   lon           610 non-null    float64\n 4   capacity      610 non-null    int64  \ndtypes: float64(2), int64(2), object(1)\nmemory usage: 24.0+ KB\n"
     ]
    }
   ],
   "source": [
    "# background info lookoing at the different data types and checking if there are any missing values. There are no missing values\n",
    "# The geographical information can be useful later on for analysis\n",
    "\n",
    "station_df.info()"
   ]
  },
  {
   "source": [
    "<h2> Importing 2017~2018 bikeshare</h2>"
   ],
   "cell_type": "markdown",
   "metadata": {}
  },
  {
   "cell_type": "code",
   "execution_count": 181,
   "metadata": {},
   "outputs": [],
   "source": [
    "# Importing bikeshare data 2017~2018 \n",
    "\n",
    "files = os.listdir()\n",
    "textfile_list = [i for i in files if 'bike_share_2017' in i or 'bike_share_2018' in i]"
   ]
  },
  {
   "cell_type": "code",
   "execution_count": 182,
   "metadata": {},
   "outputs": [],
   "source": [
    "# Creating the dataframe\n",
    "\n",
    "temp_data = []\n",
    "\n",
    "for doc in textfile_list:\n",
    "    temp = pd.read_csv(doc)\n",
    "    temp_data.append(temp)\n",
    "\n",
    "raw_bikeshare_2017_2018 = pd.concat(temp_data)"
   ]
  },
  {
   "cell_type": "code",
   "execution_count": 183,
   "metadata": {},
   "outputs": [
    {
     "output_type": "execute_result",
     "data": {
      "text/plain": [
       "   trip_id         trip_start_time          trip_stop_time  \\\n",
       "0   712441  2017-01-01 05:03 (UTC)  2017-01-01 05:08 (UTC)   \n",
       "1   712442  2017-01-01 05:03 (UTC)  2017-01-01 05:12 (UTC)   \n",
       "2   712443  2017-01-01 05:05 (UTC)  2017-01-01 05:22 (UTC)   \n",
       "3   712444  2017-01-01 05:09 (UTC)  2017-01-01 05:26 (UTC)   \n",
       "4   712445  2017-01-01 05:14 (UTC)  2017-01-01 05:25 (UTC)   \n",
       "\n",
       "   trip_duration_seconds  from_station_id  \\\n",
       "0                    274           7006.0   \n",
       "1                    538           7046.0   \n",
       "2                    992           7048.0   \n",
       "3                   1005           7177.0   \n",
       "4                    645           7203.0   \n",
       "\n",
       "                           from_station_name  to_station_id  \\\n",
       "0            Bay St / College St (East Side)         7021.0   \n",
       "1                 Niagara St / Richmond St W         7147.0   \n",
       "2  Front St / Yonge St (Hockey Hall of Fame)         7089.0   \n",
       "3            East Liberty St / Pirandello St         7202.0   \n",
       "4                Bathurst St / Queens Quay W         7010.0   \n",
       "\n",
       "                    to_station_name user_type  \n",
       "0                Bay St / Albert St    Member  \n",
       "1            King St W / Fraser Ave    Member  \n",
       "2              Church St  / Wood St    Member  \n",
       "3  Queen St W / York St (City Hall)    Member  \n",
       "4           King St W / Spadina Ave    Member  "
      ],
      "text/html": "<div>\n<style scoped>\n    .dataframe tbody tr th:only-of-type {\n        vertical-align: middle;\n    }\n\n    .dataframe tbody tr th {\n        vertical-align: top;\n    }\n\n    .dataframe thead th {\n        text-align: right;\n    }\n</style>\n<table border=\"1\" class=\"dataframe\">\n  <thead>\n    <tr style=\"text-align: right;\">\n      <th></th>\n      <th>trip_id</th>\n      <th>trip_start_time</th>\n      <th>trip_stop_time</th>\n      <th>trip_duration_seconds</th>\n      <th>from_station_id</th>\n      <th>from_station_name</th>\n      <th>to_station_id</th>\n      <th>to_station_name</th>\n      <th>user_type</th>\n    </tr>\n  </thead>\n  <tbody>\n    <tr>\n      <th>0</th>\n      <td>712441</td>\n      <td>2017-01-01 05:03 (UTC)</td>\n      <td>2017-01-01 05:08 (UTC)</td>\n      <td>274</td>\n      <td>7006.0</td>\n      <td>Bay St / College St (East Side)</td>\n      <td>7021.0</td>\n      <td>Bay St / Albert St</td>\n      <td>Member</td>\n    </tr>\n    <tr>\n      <th>1</th>\n      <td>712442</td>\n      <td>2017-01-01 05:03 (UTC)</td>\n      <td>2017-01-01 05:12 (UTC)</td>\n      <td>538</td>\n      <td>7046.0</td>\n      <td>Niagara St / Richmond St W</td>\n      <td>7147.0</td>\n      <td>King St W / Fraser Ave</td>\n      <td>Member</td>\n    </tr>\n    <tr>\n      <th>2</th>\n      <td>712443</td>\n      <td>2017-01-01 05:05 (UTC)</td>\n      <td>2017-01-01 05:22 (UTC)</td>\n      <td>992</td>\n      <td>7048.0</td>\n      <td>Front St / Yonge St (Hockey Hall of Fame)</td>\n      <td>7089.0</td>\n      <td>Church St  / Wood St</td>\n      <td>Member</td>\n    </tr>\n    <tr>\n      <th>3</th>\n      <td>712444</td>\n      <td>2017-01-01 05:09 (UTC)</td>\n      <td>2017-01-01 05:26 (UTC)</td>\n      <td>1005</td>\n      <td>7177.0</td>\n      <td>East Liberty St / Pirandello St</td>\n      <td>7202.0</td>\n      <td>Queen St W / York St (City Hall)</td>\n      <td>Member</td>\n    </tr>\n    <tr>\n      <th>4</th>\n      <td>712445</td>\n      <td>2017-01-01 05:14 (UTC)</td>\n      <td>2017-01-01 05:25 (UTC)</td>\n      <td>645</td>\n      <td>7203.0</td>\n      <td>Bathurst St / Queens Quay W</td>\n      <td>7010.0</td>\n      <td>King St W / Spadina Ave</td>\n      <td>Member</td>\n    </tr>\n  </tbody>\n</table>\n</div>"
     },
     "metadata": {},
     "execution_count": 183
    }
   ],
   "source": [
    "# Initial look at the data\n",
    "\n",
    "raw_bikeshare_2017_2018.head()"
   ]
  },
  {
   "cell_type": "code",
   "execution_count": 184,
   "metadata": {},
   "outputs": [
    {
     "output_type": "stream",
     "name": "stdout",
     "text": [
      "<class 'pandas.core.frame.DataFrame'>\nInt64Index: 3415324 entries, 0 to 255000\nData columns (total 9 columns):\n #   Column                 Dtype  \n---  ------                 -----  \n 0   trip_id                int64  \n 1   trip_start_time        object \n 2   trip_stop_time         object \n 3   trip_duration_seconds  int64  \n 4   from_station_id        float64\n 5   from_station_name      object \n 6   to_station_id          float64\n 7   to_station_name        object \n 8   user_type              object \ndtypes: float64(2), int64(2), object(5)\nmemory usage: 260.6+ MB\n"
     ]
    }
   ],
   "source": [
    "# Background information\n",
    "# Some general observations is that the 'trip_start_time' amd 'trip_stop_time' are not datetime objects even though they are formatted that way. We would need to change this later on\n",
    "# Station Id's are flaots currently floats. We will change them to integers later on to match with the Trip Id format\n",
    "\n",
    "raw_bikeshare_2017_2018.info()"
   ]
  },
  {
   "cell_type": "code",
   "execution_count": 185,
   "metadata": {},
   "outputs": [
    {
     "output_type": "execute_result",
     "data": {
      "text/plain": [
       "3415324"
      ]
     },
     "metadata": {},
     "execution_count": 185
    }
   ],
   "source": [
    "# remove any duplicate trips based on trip ID if there are any\n",
    "# Assumption is that we will only keep the first occurence of the trip with the same trip ID\n",
    "\n",
    "bikeshare_2017_2018 = raw_bikeshare_2017_2018.drop_duplicates(subset='trip_id', keep='first')\n",
    "len(bikeshare_2017_2018)\n",
    "\n",
    "# Seems like there are no duplicate entries since this numbers matches the original number of entries in the raw data, this is good"
   ]
  },
  {
   "cell_type": "code",
   "execution_count": 186,
   "metadata": {},
   "outputs": [],
   "source": [
    "# Find missing data if any\n",
    "\n",
    "# This is a good time to create a function that checks for missing data. We will likely use this a lot\n",
    "def find_missing(data):\n",
    "\n",
    "    missing = len(data) - data.count()\n",
    "    return missing"
   ]
  },
  {
   "cell_type": "code",
   "execution_count": 187,
   "metadata": {},
   "outputs": [
    {
     "output_type": "execute_result",
     "data": {
      "text/plain": [
       "trip_id                        0\n",
       "trip_start_time                0\n",
       "trip_stop_time                 1\n",
       "trip_duration_seconds          0\n",
       "from_station_id          1026893\n",
       "from_station_name              0\n",
       "to_station_id            1026893\n",
       "to_station_name                1\n",
       "user_type                      0\n",
       "dtype: int64"
      ]
     },
     "metadata": {},
     "execution_count": 187
    }
   ],
   "source": [
    "find_missing(bikeshare_2017_2018)\n",
    "\n",
    "# We see that there are some missing data in trip_stop_time, from_station_name, to_station_id, and to_station_name. Let's explore what they look like"
   ]
  },
  {
   "cell_type": "code",
   "execution_count": 188,
   "metadata": {},
   "outputs": [
    {
     "output_type": "execute_result",
     "data": {
      "text/plain": [
       "        trip_id         trip_start_time trip_stop_time  trip_duration_seconds  \\\n",
       "110062  2302635  2017-11-29 10:53 (UTC)            NaN                      0   \n",
       "\n",
       "        from_station_id        from_station_name  to_station_id  \\\n",
       "110062              NaN  Seaton St / Dundas St E            NaN   \n",
       "\n",
       "       to_station_name user_type  \n",
       "110062             NaN    Casual  "
      ],
      "text/html": "<div>\n<style scoped>\n    .dataframe tbody tr th:only-of-type {\n        vertical-align: middle;\n    }\n\n    .dataframe tbody tr th {\n        vertical-align: top;\n    }\n\n    .dataframe thead th {\n        text-align: right;\n    }\n</style>\n<table border=\"1\" class=\"dataframe\">\n  <thead>\n    <tr style=\"text-align: right;\">\n      <th></th>\n      <th>trip_id</th>\n      <th>trip_start_time</th>\n      <th>trip_stop_time</th>\n      <th>trip_duration_seconds</th>\n      <th>from_station_id</th>\n      <th>from_station_name</th>\n      <th>to_station_id</th>\n      <th>to_station_name</th>\n      <th>user_type</th>\n    </tr>\n  </thead>\n  <tbody>\n    <tr>\n      <th>110062</th>\n      <td>2302635</td>\n      <td>2017-11-29 10:53 (UTC)</td>\n      <td>NaN</td>\n      <td>0</td>\n      <td>NaN</td>\n      <td>Seaton St / Dundas St E</td>\n      <td>NaN</td>\n      <td>NaN</td>\n      <td>Casual</td>\n    </tr>\n  </tbody>\n</table>\n</div>"
     },
     "metadata": {},
     "execution_count": 188
    }
   ],
   "source": [
    "# Let's start by looking at the row with 'trip_stop_time' = NaN. Seems like this entry is problematic since it is missing data in all 4 columns of missing data\n",
    "\n",
    "bikeshare_2017_2018.loc[bikeshare_2017_2018['trip_stop_time'].isnull()]"
   ]
  },
  {
   "cell_type": "code",
   "execution_count": 189,
   "metadata": {},
   "outputs": [
    {
     "output_type": "execute_result",
     "data": {
      "text/plain": [
       "trip_id                        0\n",
       "trip_start_time                0\n",
       "trip_stop_time                 0\n",
       "trip_duration_seconds          0\n",
       "from_station_id          1026892\n",
       "from_station_name              0\n",
       "to_station_id            1026892\n",
       "to_station_name                0\n",
       "user_type                      0\n",
       "dtype: int64"
      ]
     },
     "metadata": {},
     "execution_count": 189
    }
   ],
   "source": [
    "# We will remove this problematic entry since it is missing too much information to be useful\n",
    "\n",
    "bikeshare_2017_2018 = bikeshare_2017_2018[(bikeshare_2017_2018['trip_stop_time'].notnull())]\n",
    "\n",
    "find_missing(bikeshare_2017_2018)"
   ]
  },
  {
   "cell_type": "code",
   "execution_count": 190,
   "metadata": {},
   "outputs": [],
   "source": [
    "# We will create a function that only contains the data entries with missing data, this way we could better explore and understand why and what could be done\n",
    "\n",
    "def null_df(data):\n",
    "    data = data[data.isnull().any(axis=1)]\n",
    "    return data"
   ]
  },
  {
   "cell_type": "code",
   "execution_count": 191,
   "metadata": {},
   "outputs": [
    {
     "output_type": "execute_result",
     "data": {
      "text/plain": [
       "   trip_id         trip_start_time          trip_stop_time  \\\n",
       "0  1971685  2017-10-01 05:00 (UTC)  2017-10-01 05:14 (UTC)   \n",
       "1  1971686  2017-10-01 05:00 (UTC)  2017-10-01 05:00 (UTC)   \n",
       "2  1971687  2017-10-01 05:00 (UTC)  2017-10-01 05:22 (UTC)   \n",
       "3  1971688  2017-10-01 05:00 (UTC)  2017-10-01 05:11 (UTC)   \n",
       "4  1971689  2017-10-01 05:00 (UTC)  2017-10-01 05:20 (UTC)   \n",
       "\n",
       "   trip_duration_seconds  from_station_id  \\\n",
       "0                    849              NaN   \n",
       "1                     26              NaN   \n",
       "2                   1310              NaN   \n",
       "3                    631              NaN   \n",
       "4                   1198              NaN   \n",
       "\n",
       "                     from_station_name  to_station_id  \\\n",
       "0                Queen St W / James St            NaN   \n",
       "1    Stewart St / Bathurst St  - SMART            NaN   \n",
       "2             Hayter St / Laplante Ave            NaN   \n",
       "3              Beverly St / College St            NaN   \n",
       "4  Thompson St / Broadview Ave - SMART            NaN   \n",
       "\n",
       "                       to_station_name user_type  \n",
       "0                    Taddle Creek Park    Member  \n",
       "1    Stewart St / Bathurst St  - SMART    Casual  \n",
       "2             Queen St W / Portland St    Member  \n",
       "3            Beverly  St / Dundas St W    Member  \n",
       "4  Thompson St / Broadview Ave - SMART    Member  "
      ],
      "text/html": "<div>\n<style scoped>\n    .dataframe tbody tr th:only-of-type {\n        vertical-align: middle;\n    }\n\n    .dataframe tbody tr th {\n        vertical-align: top;\n    }\n\n    .dataframe thead th {\n        text-align: right;\n    }\n</style>\n<table border=\"1\" class=\"dataframe\">\n  <thead>\n    <tr style=\"text-align: right;\">\n      <th></th>\n      <th>trip_id</th>\n      <th>trip_start_time</th>\n      <th>trip_stop_time</th>\n      <th>trip_duration_seconds</th>\n      <th>from_station_id</th>\n      <th>from_station_name</th>\n      <th>to_station_id</th>\n      <th>to_station_name</th>\n      <th>user_type</th>\n    </tr>\n  </thead>\n  <tbody>\n    <tr>\n      <th>0</th>\n      <td>1971685</td>\n      <td>2017-10-01 05:00 (UTC)</td>\n      <td>2017-10-01 05:14 (UTC)</td>\n      <td>849</td>\n      <td>NaN</td>\n      <td>Queen St W / James St</td>\n      <td>NaN</td>\n      <td>Taddle Creek Park</td>\n      <td>Member</td>\n    </tr>\n    <tr>\n      <th>1</th>\n      <td>1971686</td>\n      <td>2017-10-01 05:00 (UTC)</td>\n      <td>2017-10-01 05:00 (UTC)</td>\n      <td>26</td>\n      <td>NaN</td>\n      <td>Stewart St / Bathurst St  - SMART</td>\n      <td>NaN</td>\n      <td>Stewart St / Bathurst St  - SMART</td>\n      <td>Casual</td>\n    </tr>\n    <tr>\n      <th>2</th>\n      <td>1971687</td>\n      <td>2017-10-01 05:00 (UTC)</td>\n      <td>2017-10-01 05:22 (UTC)</td>\n      <td>1310</td>\n      <td>NaN</td>\n      <td>Hayter St / Laplante Ave</td>\n      <td>NaN</td>\n      <td>Queen St W / Portland St</td>\n      <td>Member</td>\n    </tr>\n    <tr>\n      <th>3</th>\n      <td>1971688</td>\n      <td>2017-10-01 05:00 (UTC)</td>\n      <td>2017-10-01 05:11 (UTC)</td>\n      <td>631</td>\n      <td>NaN</td>\n      <td>Beverly St / College St</td>\n      <td>NaN</td>\n      <td>Beverly  St / Dundas St W</td>\n      <td>Member</td>\n    </tr>\n    <tr>\n      <th>4</th>\n      <td>1971689</td>\n      <td>2017-10-01 05:00 (UTC)</td>\n      <td>2017-10-01 05:20 (UTC)</td>\n      <td>1198</td>\n      <td>NaN</td>\n      <td>Thompson St / Broadview Ave - SMART</td>\n      <td>NaN</td>\n      <td>Thompson St / Broadview Ave - SMART</td>\n      <td>Member</td>\n    </tr>\n  </tbody>\n</table>\n</div>"
     },
     "metadata": {},
     "execution_count": 191
    }
   ],
   "source": [
    "# Let's look at rest of the missing data of 'from_station_id' and 'to_station_id'\n",
    "\n",
    "null_data = null_df(bikeshare_2017_2018)\n",
    "\n",
    "null_data.head()\n",
    "\n",
    "# seems like some stations Ids are missing data, we can get the missing information from the \"bikeshare_stations.csv\" by matching the station names to get their Id"
   ]
  },
  {
   "cell_type": "code",
   "execution_count": 192,
   "metadata": {},
   "outputs": [],
   "source": [
    "# merge bikeshare stations with 2017~2018 bikeshare data to find missing station id. Start with from_station_id\n",
    "\n",
    "merged_2017_2018 = pd.merge(bikeshare_2017_2018, station_df, how='left', left_on='from_station_name', right_on='Station Name')\n",
    "merged_2017_2018['from_station_id'] = merged_2017_2018['from_station_id'].fillna(merged_2017_2018['Station Id'])\n",
    "\n",
    "merged_2017_2018 = merged_2017_2018[merged_2017_2018.columns[:-5]]"
   ]
  },
  {
   "cell_type": "code",
   "execution_count": 193,
   "metadata": {},
   "outputs": [],
   "source": [
    "# merge bikeshare stations with 2017~2018 bikeshare data to find missing station id. End with to_station_id\n",
    "\n",
    "merged_2017_2018 = pd.merge(merged_2017_2018 , station_df, how='left', left_on='to_station_name', right_on='Station Name')\n",
    "merged_2017_2018['to_station_id'] = merged_2017_2018['to_station_id'].fillna(merged_2017_2018['Station Id'])\n",
    "\n",
    "merged_2017_2018 = merged_2017_2018[merged_2017_2018.columns[:-5]]"
   ]
  },
  {
   "cell_type": "code",
   "execution_count": 194,
   "metadata": {},
   "outputs": [
    {
     "output_type": "execute_result",
     "data": {
      "text/plain": [
       "trip_id                       0\n",
       "trip_start_time               0\n",
       "trip_stop_time                0\n",
       "trip_duration_seconds         0\n",
       "from_station_id          207212\n",
       "from_station_name             0\n",
       "to_station_id            207016\n",
       "to_station_name               0\n",
       "user_type                     0\n",
       "dtype: int64"
      ]
     },
     "metadata": {},
     "execution_count": 194
    }
   ],
   "source": [
    "# Let's check for missing data now, there seems to be some improvement but we should look into it further  \n",
    "\n",
    "find_missing(merged_2017_2018)"
   ]
  },
  {
   "cell_type": "code",
   "execution_count": 195,
   "metadata": {},
   "outputs": [],
   "source": [
    "# Here we will create a function to understand the percetage of missing data within the selected column\n",
    "# This could be useful in the future for determining whether to keep going with minimizing missing data or not\n",
    "\n",
    "def missing_percent(data, column): \n",
    "    percent = data[column].isna().sum()/len(data)\n",
    "    return print('{0:.2%}'.format(percent))"
   ]
  },
  {
   "cell_type": "code",
   "execution_count": 196,
   "metadata": {},
   "outputs": [
    {
     "output_type": "stream",
     "name": "stdout",
     "text": [
      "6.07%\n"
     ]
    }
   ],
   "source": [
    "missing_percent(merged_2017_2018,'from_station_id')\n",
    "\n",
    "# 6.07% of 'from_station_id' is missing values"
   ]
  },
  {
   "cell_type": "code",
   "execution_count": 197,
   "metadata": {},
   "outputs": [
    {
     "output_type": "stream",
     "name": "stdout",
     "text": [
      "6.06%\n"
     ]
    }
   ],
   "source": [
    "missing_percent(merged_2017_2018,'to_station_id')\n",
    "\n",
    "# 6.06% of 'from_station_id' is missing values"
   ]
  },
  {
   "cell_type": "code",
   "execution_count": 198,
   "metadata": {},
   "outputs": [
    {
     "output_type": "execute_result",
     "data": {
      "text/plain": [
       "       trip_id         trip_start_time          trip_stop_time  \\\n",
       "41420  1971688  2017-10-01 05:00 (UTC)  2017-10-01 05:11 (UTC)   \n",
       "41422  1971690  2017-10-01 05:01 (UTC)  2017-10-01 05:07 (UTC)   \n",
       "41427  1971695  2017-10-01 05:01 (UTC)  2017-10-01 05:30 (UTC)   \n",
       "41431  1971699  2017-10-01 05:03 (UTC)  2017-10-01 05:12 (UTC)   \n",
       "41433  1971701  2017-10-01 05:03 (UTC)  2017-10-01 05:15 (UTC)   \n",
       "\n",
       "       trip_duration_seconds  from_station_id            from_station_name  \\\n",
       "41420                    631              NaN      Beverly St / College St   \n",
       "41422                    396           7024.0     Dundonald St / Church St   \n",
       "41427                   1698              NaN  University Ave / College St   \n",
       "41431                    534           7275.0        Queen St W / James St   \n",
       "41433                    692           7192.0      Harbord St / Clinton St   \n",
       "\n",
       "       to_station_id                              to_station_name user_type  \n",
       "41420            NaN                    Beverly  St / Dundas St W    Member  \n",
       "41422            NaN  Victoria St / Gould St (Ryerson University)    Member  \n",
       "41427         7021.0                           Bay St / Albert St    Casual  \n",
       "41431            NaN         25 York St (ACC/Union Station South)    Member  \n",
       "41433            NaN                  University Ave / College St    Member  "
      ],
      "text/html": "<div>\n<style scoped>\n    .dataframe tbody tr th:only-of-type {\n        vertical-align: middle;\n    }\n\n    .dataframe tbody tr th {\n        vertical-align: top;\n    }\n\n    .dataframe thead th {\n        text-align: right;\n    }\n</style>\n<table border=\"1\" class=\"dataframe\">\n  <thead>\n    <tr style=\"text-align: right;\">\n      <th></th>\n      <th>trip_id</th>\n      <th>trip_start_time</th>\n      <th>trip_stop_time</th>\n      <th>trip_duration_seconds</th>\n      <th>from_station_id</th>\n      <th>from_station_name</th>\n      <th>to_station_id</th>\n      <th>to_station_name</th>\n      <th>user_type</th>\n    </tr>\n  </thead>\n  <tbody>\n    <tr>\n      <th>41420</th>\n      <td>1971688</td>\n      <td>2017-10-01 05:00 (UTC)</td>\n      <td>2017-10-01 05:11 (UTC)</td>\n      <td>631</td>\n      <td>NaN</td>\n      <td>Beverly St / College St</td>\n      <td>NaN</td>\n      <td>Beverly  St / Dundas St W</td>\n      <td>Member</td>\n    </tr>\n    <tr>\n      <th>41422</th>\n      <td>1971690</td>\n      <td>2017-10-01 05:01 (UTC)</td>\n      <td>2017-10-01 05:07 (UTC)</td>\n      <td>396</td>\n      <td>7024.0</td>\n      <td>Dundonald St / Church St</td>\n      <td>NaN</td>\n      <td>Victoria St / Gould St (Ryerson University)</td>\n      <td>Member</td>\n    </tr>\n    <tr>\n      <th>41427</th>\n      <td>1971695</td>\n      <td>2017-10-01 05:01 (UTC)</td>\n      <td>2017-10-01 05:30 (UTC)</td>\n      <td>1698</td>\n      <td>NaN</td>\n      <td>University Ave / College St</td>\n      <td>7021.0</td>\n      <td>Bay St / Albert St</td>\n      <td>Casual</td>\n    </tr>\n    <tr>\n      <th>41431</th>\n      <td>1971699</td>\n      <td>2017-10-01 05:03 (UTC)</td>\n      <td>2017-10-01 05:12 (UTC)</td>\n      <td>534</td>\n      <td>7275.0</td>\n      <td>Queen St W / James St</td>\n      <td>NaN</td>\n      <td>25 York St (ACC/Union Station South)</td>\n      <td>Member</td>\n    </tr>\n    <tr>\n      <th>41433</th>\n      <td>1971701</td>\n      <td>2017-10-01 05:03 (UTC)</td>\n      <td>2017-10-01 05:15 (UTC)</td>\n      <td>692</td>\n      <td>7192.0</td>\n      <td>Harbord St / Clinton St</td>\n      <td>NaN</td>\n      <td>University Ave / College St</td>\n      <td>Member</td>\n    </tr>\n  </tbody>\n</table>\n</div>"
     },
     "metadata": {},
     "execution_count": 198
    }
   ],
   "source": [
    "# Let's find out the exact station names that could not be identified\n",
    "\n",
    "null_data = null_df(merged_2017_2018)\n",
    "null_data.head()"
   ]
  },
  {
   "cell_type": "code",
   "execution_count": 199,
   "metadata": {},
   "outputs": [],
   "source": [
    "# We will create an empty list that will take in the Station names if their associated station Id is missing\n",
    "\n",
    "null_stations = []\n",
    "\n",
    "for index, row in null_data.iterrows():\n",
    "    if pd.isna(row['from_station_id']):\n",
    "        null_stations.append(row['from_station_name'])\n",
    "    elif pd.isna(row['to_station_id']):\n",
    "        null_stations.append(row['to_station_name'])\n",
    "\n",
    "\n",
    "# Keeping only one of each unique Station name that is missing a station Id\n",
    "null_stations = set(null_stations)"
   ]
  },
  {
   "cell_type": "code",
   "execution_count": 200,
   "metadata": {},
   "outputs": [
    {
     "output_type": "execute_result",
     "data": {
      "text/plain": [
       "{'25 York St (ACC/Union Station South)',\n",
       " '80 Clinton St (North of College)',\n",
       " 'Base Station',\n",
       " 'Bathurst St / Lennox St',\n",
       " 'Bathurst St / Queens Quay W',\n",
       " 'Bathurst Subway Station',\n",
       " 'Bay St / Bloor St W',\n",
       " 'Bay St / Davenport Rd',\n",
       " 'Beverly  St / Dundas St W',\n",
       " 'Beverly St / College St',\n",
       " 'Bloor St / Brunswick Ave',\n",
       " 'Bloor St W / Christie St',\n",
       " 'Bremner Blvd / Spadina Ave',\n",
       " 'Bridgeman Ave / Bathurst St',\n",
       " 'Bridgeman Ave / Kendal Ave',\n",
       " 'Chester Station',\n",
       " 'Davenport Rd / Bathurst St',\n",
       " 'Davenport Rd / Christie St',\n",
       " 'Dockside Dr / Queens Quay E (Sugar Beach)',\n",
       " 'Dovercourt Rd / Harrison St - SMART',\n",
       " 'Dufferin St / Bloor St',\n",
       " 'Essex St / Christie St',\n",
       " 'Euclid Ave / Bloor St W',\n",
       " 'Fort York  Blvd / Capreol Crt',\n",
       " 'Fringe Next Stage - 7219',\n",
       " 'Lake Shore Blvd W / Ontario Dr(Ontario Place)',\n",
       " 'Lakeshore Blvd W / Ellis Ave',\n",
       " 'Lakeshore Blvd W / The Boulevard Club',\n",
       " 'Lansdowne Subway Green P',\n",
       " 'Macpherson Ave / Spadina Rd',\n",
       " 'Margueretta St / College St',\n",
       " 'Michael Sweet Ave / St. Patrick St',\n",
       " 'Ontario Place Blvd / Remembrance Dr',\n",
       " 'Ossington Ave / Bloor St W',\n",
       " 'Palmerston Ave / Vermont Ave',\n",
       " 'Queen St E / Berkely St',\n",
       " 'Queen St E / Larchmount Ave',\n",
       " 'Queen St W / Shaw St',\n",
       " 'Queens Park / Bloor St W',\n",
       " 'Roxton Rd / College St',\n",
       " 'Salem Ave / Bloor St W',\n",
       " 'Seaton St / Dundas St E',\n",
       " 'Simcoe St / Dundas St W',\n",
       " 'Simcoe St / Wellington St W',\n",
       " 'Stephenson Ave / Main St',\n",
       " 'Sterling Rd / Dundas St W',\n",
       " 'Summerhill Ave / MacLennan Ave - SMART',\n",
       " 'University Ave / College St',\n",
       " 'University Ave / Gerrard St W',\n",
       " 'University Ave / King St W',\n",
       " 'Victoria St / Gould St (Ryerson University)',\n",
       " 'Wellesley St E / Yonge St (Green P)',\n",
       " 'Woodbine Subway Green P (Cedarvale Ave)',\n",
       " 'Yarmouth Rd / Christie St',\n",
       " 'York St / King St W - SMART'}"
      ]
     },
     "metadata": {},
     "execution_count": 200
    }
   ],
   "source": [
    "# Looking at the 'bikeshare_stations.csv', we find that many of the missing station Id indeed exists.\n",
    "# We need to replace the existing station names in the bikeshare data with the correct ones in the bikshare_stations.csv so that the missing station Id can be extracted when we merge these 2 datasets again\n",
    "\n",
    "null_stations"
   ]
  },
  {
   "cell_type": "code",
   "execution_count": 201,
   "metadata": {},
   "outputs": [],
   "source": [
    "# replace station names with the correct ones found in the bikeshare_stations.csv\n",
    "# We will not replace stations on the same intersection with multiple stations since we don't know which station is the correct one\n",
    "# Ex: 'University Ave / College St (East)' or 'University Ave / College St (West)' when we are only given 'University Ave / College St'\n",
    "\n",
    "def replace_name_2017_2018(a,b):\n",
    "    bikeshare_2017_2018.from_station_name.replace(a,b,inplace=True)\n",
    "    bikeshare_2017_2018.to_station_name.replace(a,b,inplace=True)\n",
    "\n",
    "replace_name_2017_2018('25 York St (ACC/Union Station South)','25 York St – Union Station South')\n",
    "replace_name_2017_2018('80 Clinton St (North of College)','80 Clinton St (North of College) - SMART')\n",
    "replace_name_2017_2018('Bathurst St / Lennox St','Bathurst St / Lennox St - SMART')\n",
    "replace_name_2017_2018('Bathurst St / Queens Quay W','Bathurst St/Queens Quay(Billy Bishop Airport)')\n",
    "replace_name_2017_2018('Bathurst Subway Station','Bathurst Subway Station - SMART')\n",
    "replace_name_2017_2018('Beverly  St / Dundas St W','Beverley  St / Dundas St W')\n",
    "replace_name_2017_2018('Bloor St W / Christie St','Bloor St W / Christie St - SMART')\n",
    "replace_name_2017_2018('Bridgeman Ave / Bathurst St','Bridgeman Ave / Bathurst St - SMART')\n",
    "replace_name_2017_2018('Bridgeman Ave / Kendal Ave','Bridgeman Ave / Kendal Ave - SMART')\n",
    "replace_name_2017_2018('Chester Station','Chester Station (Green P)')\n",
    "replace_name_2017_2018('Davenport Rd / Bathurst St','Davenport Rd / Bathurst St - SMART')\n",
    "replace_name_2017_2018('Davenport Rd / Christie St','Davenport Rd / Christie St - SMART')\n",
    "replace_name_2017_2018('Dovercourt Rd / Harrison St - SMART','Dovercourt Rd / Harrison St (Green P) - SMART')\n",
    "replace_name_2017_2018('Dufferin St / Bloor St','Dufferin St / Bloor St- SMART')\n",
    "replace_name_2017_2018('Essex St / Christie St','Essex St / Christie St - SMART')\n",
    "replace_name_2017_2018('Fort York  Blvd / Capreol Crt','Fort York  Blvd / Capreol Ct')\n",
    "replace_name_2017_2018('Lake Shore Blvd W / Ontario Dr(Ontario Place)','Lake Shore Blvd W / Ontario Dr')\n",
    "replace_name_2017_2018('Lakeshore Blvd W / Ellis Ave','Lake Shore Blvd W / Ellis Ave')\n",
    "replace_name_2017_2018('Lakeshore Blvd W / The Boulevard Club','Lake Shore Blvd W / The Boulevard Club') \n",
    "replace_name_2017_2018('Lansdowne Subway Green P','Lansdowne Subway Station')\n",
    "replace_name_2017_2018('Macpherson Ave / Spadina Rd','Macpherson Ave / Spadina Rd - SMART')\n",
    "replace_name_2017_2018('Ossington Ave / Bloor St W','Ossington Ave / Bloor St W - SMART') \n",
    "replace_name_2017_2018('Palmerston Ave / Vermont Ave','Palmerston Ave / Vermont Ave - SMART') \n",
    "replace_name_2017_2018('Queen St E / Berkely St','Queen St E / Berkeley St') \n",
    "replace_name_2017_2018('Salem Ave / Bloor St W','Salem Ave / Bloor St W - SMART')\n",
    "replace_name_2017_2018('Seaton St / Dundas St E','Seaton St / Dundas St E - SMART') \n",
    "replace_name_2017_2018('Sterling Rd / Dundas St W','Sterling Rd / Dundas St W - SMART') \n",
    "replace_name_2017_2018('Summerhill Ave / MacLennan Ave - SMART','Summerhill Ave / Maclennan Ave') \n",
    "replace_name_2017_2018('University Ave / King St W','University Ave / King St W - SMART')\n",
    "replace_name_2017_2018('Woodbine Subway Green P (Cedarvale Ave)','Woodbine Subway Green P SMART') \n",
    "replace_name_2017_2018('Yarmouth Rd / Christie St','Yarmouth Rd / Christie St - SMART') \n",
    "replace_name_2017_2018('York St / King St W - SMART','King St W / York St')"
   ]
  },
  {
   "cell_type": "code",
   "execution_count": 202,
   "metadata": {},
   "outputs": [],
   "source": [
    "# merge bikeshare stations with 2017~2018 bikeshare data again to import station ID\n",
    "# We will also create a merge time that is rounded to the hour to merge with the weather data later\n",
    "\n",
    "merged_2017_2018 = pd.merge(bikeshare_2017_2018, station_df, how='left', left_on='from_station_name', right_on='Station Name')\n",
    "merged_2017_2018['from_station_id'] = merged_2017_2018['from_station_id'].fillna(merged_2017_2018['Station Id'])\n",
    "\n",
    "merged_2017_2018 = merged_2017_2018[merged_2017_2018.columns[:-5]]\n",
    "\n",
    "merged_2017_2018 = pd.merge(merged_2017_2018 , station_df, how='left', left_on='to_station_name', right_on='Station Name')\n",
    "merged_2017_2018['to_station_id'] = merged_2017_2018['to_station_id'].fillna(merged_2017_2018['Station Id'])\n",
    "\n",
    "merged_2017_2018 = merged_2017_2018[merged_2017_2018.columns[:-5]]"
   ]
  },
  {
   "cell_type": "code",
   "execution_count": 203,
   "metadata": {},
   "outputs": [
    {
     "output_type": "stream",
     "name": "stdout",
     "text": [
      "3.46%\n"
     ]
    }
   ],
   "source": [
    "# we've decreased the missing data percentage from 6.06% to 3.46%\n",
    "\n",
    "missing_percent(merged_2017_2018,'from_station_id')"
   ]
  },
  {
   "cell_type": "code",
   "execution_count": 204,
   "metadata": {},
   "outputs": [
    {
     "output_type": "stream",
     "name": "stdout",
     "text": [
      "3.55%\n"
     ]
    }
   ],
   "source": [
    "# we've decreased the missing data percentage from 6.0% to 3.55%\n",
    "\n",
    "missing_percent(merged_2017_2018,'to_station_id')"
   ]
  },
  {
   "cell_type": "code",
   "execution_count": 205,
   "metadata": {},
   "outputs": [
    {
     "output_type": "execute_result",
     "data": {
      "text/plain": [
       "trip_id                       0\n",
       "trip_start_time               0\n",
       "trip_stop_time                0\n",
       "trip_duration_seconds         0\n",
       "from_station_id          118277\n",
       "from_station_name             0\n",
       "to_station_id            121244\n",
       "to_station_name               0\n",
       "user_type                     0\n",
       "dtype: int64"
      ]
     },
     "metadata": {},
     "execution_count": 205
    }
   ],
   "source": [
    "find_missing(merged_2017_2018)"
   ]
  },
  {
   "cell_type": "code",
   "execution_count": 206,
   "metadata": {},
   "outputs": [
    {
     "output_type": "execute_result",
     "data": {
      "text/plain": [
       "'93.52%'"
      ]
     },
     "metadata": {},
     "execution_count": 206
    }
   ],
   "source": [
    "# We will drop the remaining rows with missing data since we are unable to determine the exact station id from the 'bikeshare_stations.csv' or the fact that the particular station does not exist in 'bikeshare_stations.csv'\n",
    "\n",
    "no_missing_2017_2018 = merged_2017_2018.dropna()\n",
    "\n",
    "\"{:.2%}\".format(len(no_missing_2017_2018)/len(raw_bikeshare_2017_2018))\n",
    "\n",
    "# In the end, we will be using 93.52% of the original raw bikeshare data between 2017~2018"
   ]
  },
  {
   "cell_type": "code",
   "execution_count": 207,
   "metadata": {},
   "outputs": [],
   "source": [
    "# Convert trip starting and end times to Datetime\n",
    "# str[:-5] will remove the (UTC) that will interfere with the conversion\n",
    "\n",
    "\n",
    "no_missing_2017_2018['trip_start_time'] = pd.to_datetime(no_missing_2017_2018['trip_start_time'].str[:-5]).dt.tz_localize('UTC')\n",
    "no_missing_2017_2018['Merge Time'] = no_missing_2017_2018['trip_start_time'].dt.round('60min').dt.tz_convert('US/Eastern')\n",
    "\n",
    "no_missing_2017_2018['trip_start_time'] = no_missing_2017_2018['trip_start_time'].dt.tz_convert('US/Eastern')\n",
    "\n",
    "no_missing_2017_2018['trip_stop_time'] = pd.to_datetime(no_missing_2017_2018['trip_stop_time'].str[:-5]).dt.tz_localize('UTC')\n",
    "no_missing_2017_2018['trip_stop_time'] = no_missing_2017_2018['trip_stop_time'].dt.tz_convert('US/Eastern')"
   ]
  },
  {
   "cell_type": "code",
   "execution_count": 208,
   "metadata": {},
   "outputs": [],
   "source": [
    "# station Id to int from float\n",
    "\n",
    "no_missing_2017_2018['from_station_id'] = no_missing_2017_2018['from_station_id'].astype('int')\n",
    "no_missing_2017_2018['to_station_id'] = no_missing_2017_2018['to_station_id'].astype('int')"
   ]
  },
  {
   "cell_type": "code",
   "execution_count": 209,
   "metadata": {},
   "outputs": [],
   "source": [
    "# The final step is to convert the column names to match those of the 2019~2020 data so that they can be concatanated later on \n",
    "\n",
    "column_namechange = {\n",
    "    'trip_id': 'Trip Id',\n",
    "    'trip_start_time': 'Start Time',\n",
    "    'trip_stop_time': 'End Time',\n",
    "    'trip_duration_seconds': 'Trip Duration',\n",
    "    'from_station_id': 'Start Station Id',\n",
    "    'from_station_name': 'Start Station Name',\n",
    "    'to_station_id': 'End Station Id',\n",
    "    'to_station_name': 'End Station Name',\n",
    "    'user_type': 'User Type'\n",
    "}\n",
    "\n",
    "no_missing_2017_2018 = no_missing_2017_2018.rename(columns=column_namechange)"
   ]
  },
  {
   "cell_type": "code",
   "execution_count": 210,
   "metadata": {},
   "outputs": [
    {
     "output_type": "execute_result",
     "data": {
      "text/plain": [
       "   Trip Id                Start Time                  End Time  Trip Duration  \\\n",
       "0   712441 2017-01-01 00:03:00-05:00 2017-01-01 00:08:00-05:00            274   \n",
       "1   712442 2017-01-01 00:03:00-05:00 2017-01-01 00:12:00-05:00            538   \n",
       "2   712443 2017-01-01 00:05:00-05:00 2017-01-01 00:22:00-05:00            992   \n",
       "3   712444 2017-01-01 00:09:00-05:00 2017-01-01 00:26:00-05:00           1005   \n",
       "4   712445 2017-01-01 00:14:00-05:00 2017-01-01 00:25:00-05:00            645   \n",
       "\n",
       "   Start Station Id                             Start Station Name  \\\n",
       "0              7006                Bay St / College St (East Side)   \n",
       "1              7046                     Niagara St / Richmond St W   \n",
       "2              7048      Front St / Yonge St (Hockey Hall of Fame)   \n",
       "3              7177                East Liberty St / Pirandello St   \n",
       "4              7203  Bathurst St/Queens Quay(Billy Bishop Airport)   \n",
       "\n",
       "   End Station Id                  End Station Name User Type  \\\n",
       "0            7021                Bay St / Albert St    Member   \n",
       "1            7147            King St W / Fraser Ave    Member   \n",
       "2            7089              Church St  / Wood St    Member   \n",
       "3            7202  Queen St W / York St (City Hall)    Member   \n",
       "4            7010           King St W / Spadina Ave    Member   \n",
       "\n",
       "                 Merge Time  \n",
       "0 2017-01-01 00:00:00-05:00  \n",
       "1 2017-01-01 00:00:00-05:00  \n",
       "2 2017-01-01 00:00:00-05:00  \n",
       "3 2017-01-01 00:00:00-05:00  \n",
       "4 2017-01-01 00:00:00-05:00  "
      ],
      "text/html": "<div>\n<style scoped>\n    .dataframe tbody tr th:only-of-type {\n        vertical-align: middle;\n    }\n\n    .dataframe tbody tr th {\n        vertical-align: top;\n    }\n\n    .dataframe thead th {\n        text-align: right;\n    }\n</style>\n<table border=\"1\" class=\"dataframe\">\n  <thead>\n    <tr style=\"text-align: right;\">\n      <th></th>\n      <th>Trip Id</th>\n      <th>Start Time</th>\n      <th>End Time</th>\n      <th>Trip Duration</th>\n      <th>Start Station Id</th>\n      <th>Start Station Name</th>\n      <th>End Station Id</th>\n      <th>End Station Name</th>\n      <th>User Type</th>\n      <th>Merge Time</th>\n    </tr>\n  </thead>\n  <tbody>\n    <tr>\n      <th>0</th>\n      <td>712441</td>\n      <td>2017-01-01 00:03:00-05:00</td>\n      <td>2017-01-01 00:08:00-05:00</td>\n      <td>274</td>\n      <td>7006</td>\n      <td>Bay St / College St (East Side)</td>\n      <td>7021</td>\n      <td>Bay St / Albert St</td>\n      <td>Member</td>\n      <td>2017-01-01 00:00:00-05:00</td>\n    </tr>\n    <tr>\n      <th>1</th>\n      <td>712442</td>\n      <td>2017-01-01 00:03:00-05:00</td>\n      <td>2017-01-01 00:12:00-05:00</td>\n      <td>538</td>\n      <td>7046</td>\n      <td>Niagara St / Richmond St W</td>\n      <td>7147</td>\n      <td>King St W / Fraser Ave</td>\n      <td>Member</td>\n      <td>2017-01-01 00:00:00-05:00</td>\n    </tr>\n    <tr>\n      <th>2</th>\n      <td>712443</td>\n      <td>2017-01-01 00:05:00-05:00</td>\n      <td>2017-01-01 00:22:00-05:00</td>\n      <td>992</td>\n      <td>7048</td>\n      <td>Front St / Yonge St (Hockey Hall of Fame)</td>\n      <td>7089</td>\n      <td>Church St  / Wood St</td>\n      <td>Member</td>\n      <td>2017-01-01 00:00:00-05:00</td>\n    </tr>\n    <tr>\n      <th>3</th>\n      <td>712444</td>\n      <td>2017-01-01 00:09:00-05:00</td>\n      <td>2017-01-01 00:26:00-05:00</td>\n      <td>1005</td>\n      <td>7177</td>\n      <td>East Liberty St / Pirandello St</td>\n      <td>7202</td>\n      <td>Queen St W / York St (City Hall)</td>\n      <td>Member</td>\n      <td>2017-01-01 00:00:00-05:00</td>\n    </tr>\n    <tr>\n      <th>4</th>\n      <td>712445</td>\n      <td>2017-01-01 00:14:00-05:00</td>\n      <td>2017-01-01 00:25:00-05:00</td>\n      <td>645</td>\n      <td>7203</td>\n      <td>Bathurst St/Queens Quay(Billy Bishop Airport)</td>\n      <td>7010</td>\n      <td>King St W / Spadina Ave</td>\n      <td>Member</td>\n      <td>2017-01-01 00:00:00-05:00</td>\n    </tr>\n  </tbody>\n</table>\n</div>"
     },
     "metadata": {},
     "execution_count": 210
    }
   ],
   "source": [
    "# We have finished our cleaning for now, time to move on to bikeshare 2019~2020 data\n",
    "\n",
    "no_missing_2017_2018.head()"
   ]
  },
  {
   "source": [
    "<h2> Importing 2019~2020 data </h2>"
   ],
   "cell_type": "markdown",
   "metadata": {}
  },
  {
   "cell_type": "code",
   "execution_count": 249,
   "metadata": {},
   "outputs": [],
   "source": [
    "files = os.listdir()\n",
    "textfile_list = [i for i in files if \"bike_share_2019\" in i or \"bike_share_2020\" in i]"
   ]
  },
  {
   "cell_type": "code",
   "execution_count": 250,
   "metadata": {},
   "outputs": [],
   "source": [
    "temp_data = []\n",
    "\n",
    "for doc in textfile_list:\n",
    "    temp = pd.read_csv(doc)\n",
    "    temp_data.append(temp)\n",
    "\n",
    "raw_bikeshare_2019_2020  = pd.concat(temp_data)"
   ]
  },
  {
   "cell_type": "code",
   "execution_count": 251,
   "metadata": {},
   "outputs": [
    {
     "output_type": "execute_result",
     "data": {
      "text/plain": [
       "   Trip Id  Subscription Id  Trip  Duration  Start Station Id  \\\n",
       "0  4581278           199751            1547              7021   \n",
       "1  4581279           294730            1112              7160   \n",
       "2  4581280           197252             589              7055   \n",
       "3  4581281           171700             259              7012   \n",
       "4  4581282           306314             281              7041   \n",
       "\n",
       "                  Start Time                       Start Station Name  \\\n",
       "0  01/01/2019 00:08:00 (EST)                       Bay St / Albert St   \n",
       "1  01/01/2019 00:10:00 (EST)                 King St W / Tecumseth St   \n",
       "2  01/01/2019 00:15:00 (EST)                   Jarvis St / Carlton St   \n",
       "3  01/01/2019 00:16:00 (EST)  Elizabeth St / Edward St (Bus Terminal)   \n",
       "4  01/01/2019 00:19:00 (EST)                     Edward St / Yonge St   \n",
       "\n",
       "   End Station Id                   End Time  \\\n",
       "0          7233.0  01/01/2019 00:33:00 (EST)   \n",
       "1          7051.0  01/01/2019 00:29:00 (EST)   \n",
       "2          7013.0  01/01/2019 00:25:00 (EST)   \n",
       "3          7235.0  01/01/2019 00:20:00 (EST)   \n",
       "4          7257.0  01/01/2019 00:24:00 (EST)   \n",
       "\n",
       "                          End Station Name  Bike Id      User Type  \n",
       "0                 King / Cowan Ave - SMART     1296  Annual Member  \n",
       "1      Wellesley St E / Yonge St (Green P)     2947  Annual Member  \n",
       "2                 Scott St / The Esplanade     2293  Annual Member  \n",
       "3  Bay St / College St (West Side) - SMART      283  Annual Member  \n",
       "4             Dundas St W / St. Patrick St     1799  Annual Member  "
      ],
      "text/html": "<div>\n<style scoped>\n    .dataframe tbody tr th:only-of-type {\n        vertical-align: middle;\n    }\n\n    .dataframe tbody tr th {\n        vertical-align: top;\n    }\n\n    .dataframe thead th {\n        text-align: right;\n    }\n</style>\n<table border=\"1\" class=\"dataframe\">\n  <thead>\n    <tr style=\"text-align: right;\">\n      <th></th>\n      <th>Trip Id</th>\n      <th>Subscription Id</th>\n      <th>Trip  Duration</th>\n      <th>Start Station Id</th>\n      <th>Start Time</th>\n      <th>Start Station Name</th>\n      <th>End Station Id</th>\n      <th>End Time</th>\n      <th>End Station Name</th>\n      <th>Bike Id</th>\n      <th>User Type</th>\n    </tr>\n  </thead>\n  <tbody>\n    <tr>\n      <th>0</th>\n      <td>4581278</td>\n      <td>199751</td>\n      <td>1547</td>\n      <td>7021</td>\n      <td>01/01/2019 00:08:00 (EST)</td>\n      <td>Bay St / Albert St</td>\n      <td>7233.0</td>\n      <td>01/01/2019 00:33:00 (EST)</td>\n      <td>King / Cowan Ave - SMART</td>\n      <td>1296</td>\n      <td>Annual Member</td>\n    </tr>\n    <tr>\n      <th>1</th>\n      <td>4581279</td>\n      <td>294730</td>\n      <td>1112</td>\n      <td>7160</td>\n      <td>01/01/2019 00:10:00 (EST)</td>\n      <td>King St W / Tecumseth St</td>\n      <td>7051.0</td>\n      <td>01/01/2019 00:29:00 (EST)</td>\n      <td>Wellesley St E / Yonge St (Green P)</td>\n      <td>2947</td>\n      <td>Annual Member</td>\n    </tr>\n    <tr>\n      <th>2</th>\n      <td>4581280</td>\n      <td>197252</td>\n      <td>589</td>\n      <td>7055</td>\n      <td>01/01/2019 00:15:00 (EST)</td>\n      <td>Jarvis St / Carlton St</td>\n      <td>7013.0</td>\n      <td>01/01/2019 00:25:00 (EST)</td>\n      <td>Scott St / The Esplanade</td>\n      <td>2293</td>\n      <td>Annual Member</td>\n    </tr>\n    <tr>\n      <th>3</th>\n      <td>4581281</td>\n      <td>171700</td>\n      <td>259</td>\n      <td>7012</td>\n      <td>01/01/2019 00:16:00 (EST)</td>\n      <td>Elizabeth St / Edward St (Bus Terminal)</td>\n      <td>7235.0</td>\n      <td>01/01/2019 00:20:00 (EST)</td>\n      <td>Bay St / College St (West Side) - SMART</td>\n      <td>283</td>\n      <td>Annual Member</td>\n    </tr>\n    <tr>\n      <th>4</th>\n      <td>4581282</td>\n      <td>306314</td>\n      <td>281</td>\n      <td>7041</td>\n      <td>01/01/2019 00:19:00 (EST)</td>\n      <td>Edward St / Yonge St</td>\n      <td>7257.0</td>\n      <td>01/01/2019 00:24:00 (EST)</td>\n      <td>Dundas St W / St. Patrick St</td>\n      <td>1799</td>\n      <td>Annual Member</td>\n    </tr>\n  </tbody>\n</table>\n</div>"
     },
     "metadata": {},
     "execution_count": 251
    }
   ],
   "source": [
    "# Initial look at the data\n",
    "\n",
    "raw_bikeshare_2019_2020.head()"
   ]
  },
  {
   "cell_type": "code",
   "execution_count": 252,
   "metadata": {},
   "outputs": [
    {
     "output_type": "stream",
     "name": "stdout",
     "text": [
      "<class 'pandas.core.frame.DataFrame'>\nInt64Index: 5052221 entries, 0 to 440661\nData columns (total 11 columns):\n #   Column              Dtype  \n---  ------              -----  \n 0   Trip Id             int64  \n 1   Subscription Id     int64  \n 2   Trip  Duration      int64  \n 3   Start Station Id    int64  \n 4   Start Time          object \n 5   Start Station Name  object \n 6   End Station Id      float64\n 7   End Time            object \n 8   End Station Name    object \n 9   Bike Id             int64  \n 10  User Type           object \ndtypes: float64(1), int64(5), object(5)\nmemory usage: 462.5+ MB\n"
     ]
    }
   ],
   "source": [
    "# Background information\n",
    "# We see that there are 2 new columns of 'Subscription Id' and 'Bike Id'\n",
    "# The 'Start Time' and 'End Time' will need to be converted to Datetime later on\n",
    "# 'End Station Id' will need to be converted to int later on\n",
    "# There are more entries between 2019~2020 than 2017~2018. This could possiby be due to the increase the number of people biking. We will answer these questions in the Data Exploration and Modelling Stages\n",
    "\n",
    "raw_bikeshare_2019_2020.info()"
   ]
  },
  {
   "cell_type": "code",
   "execution_count": 283,
   "metadata": {},
   "outputs": [
    {
     "output_type": "execute_result",
     "data": {
      "text/plain": [
       "5052221"
      ]
     },
     "metadata": {},
     "execution_count": 283
    }
   ],
   "source": [
    "# remove any duplicate trips based on trip ID if there are any\n",
    "# Assumption is that we will only keep the first occurence of the trip with the same trip ID\n",
    "\n",
    "bikeshare_2019_2020 = raw_bikeshare_2019_2020.drop_duplicates(subset='Trip Id', keep='first')\n",
    "len(bikeshare_2019_2020)\n",
    "\n",
    "# Seems like there are no duplicate entries, this is good"
   ]
  },
  {
   "cell_type": "code",
   "execution_count": 284,
   "metadata": {},
   "outputs": [
    {
     "output_type": "execute_result",
     "data": {
      "text/plain": [
       "Trip Id                  0\n",
       "Subscription Id          0\n",
       "Trip  Duration           0\n",
       "Start Station Id         0\n",
       "Start Time               0\n",
       "Start Station Name     164\n",
       "End Station Id        1266\n",
       "End Time                 0\n",
       "End Station Name      1408\n",
       "Bike Id                  0\n",
       "User Type                0\n",
       "dtype: int64"
      ]
     },
     "metadata": {},
     "execution_count": 284
    }
   ],
   "source": [
    "# Find missing data if any\n",
    "\n",
    "find_missing(bikeshare_2019_2020)\n",
    "\n",
    "# We see that there are some missing data in 'Start Station Name', 'End Station Id', and 'End Station Name'. Let's explore what they look like"
   ]
  },
  {
   "cell_type": "code",
   "execution_count": 285,
   "metadata": {},
   "outputs": [
    {
     "output_type": "execute_result",
     "data": {
      "text/plain": [
       "Trip Id                 0\n",
       "Subscription Id         0\n",
       "Trip  Duration          0\n",
       "Start Station Id        0\n",
       "Start Time              0\n",
       "Start Station Name    164\n",
       "End Station Id          0\n",
       "End Time                0\n",
       "End Station Name      142\n",
       "Bike Id                 0\n",
       "User Type               0\n",
       "dtype: int64"
      ]
     },
     "metadata": {},
     "execution_count": 285
    }
   ],
   "source": [
    "# First, we will drop any rows with both 'End Station Name' and 'End Station Id' as missing values. Without both these values, it would be impossible to tell which station did the biker disembark at\n",
    "\n",
    "no_end = bikeshare_2019_2020[[\"End Station Id\", \"End Station Name\"]].isnull().all(axis=1) \n",
    "bikeshare_2019_2020 = bikeshare_2019_2020.loc[~no_end, :]\n",
    "\n",
    "find_missing(bikeshare_2019_2020)\n",
    "\n",
    "# Now we only have 'Start Station Name' and 'End Station Name' with missing values"
   ]
  },
  {
   "cell_type": "code",
   "execution_count": 286,
   "metadata": {},
   "outputs": [
    {
     "output_type": "execute_result",
     "data": {
      "text/plain": [
       "Trip Id                 0\n",
       "Subscription Id         0\n",
       "Trip  Duration          0\n",
       "Start Station Id        0\n",
       "Start Time              0\n",
       "Start Station Name      0\n",
       "End Station Id          0\n",
       "End Time                0\n",
       "End Station Name      142\n",
       "Bike Id                 0\n",
       "User Type               0\n",
       "dtype: int64"
      ]
     },
     "metadata": {},
     "execution_count": 286
    }
   ],
   "source": [
    "# merge bikeshare stations with 2019~2020 bikeshare data to find missing Start Station Name.\n",
    "# We will also create a merge time that is rounded to the hour to merge with the weather data later\n",
    "\n",
    "merged_2019_2020 = pd.merge(bikeshare_2019_2020, station_df, how='left', left_on='Start Station Id', right_on='Station Id')\n",
    "merged_2019_2020['Start Station Name'] = merged_2019_2020['Start Station Name'].fillna(merged_2019_2020['Station Name'])\n",
    "\n",
    "merged_2019_2020 = merged_2019_2020[merged_2019_2020.columns[:-5]]\n",
    "\n",
    "find_missing(merged_2019_2020)\n",
    "\n",
    "# lastly we have 'End Station Name' with missing values"
   ]
  },
  {
   "cell_type": "code",
   "execution_count": 287,
   "metadata": {},
   "outputs": [
    {
     "output_type": "execute_result",
     "data": {
      "text/plain": [
       "Trip Id               0\n",
       "Subscription Id       0\n",
       "Trip  Duration        0\n",
       "Start Station Id      0\n",
       "Start Time            0\n",
       "Start Station Name    0\n",
       "End Station Id        0\n",
       "End Time              0\n",
       "End Station Name      0\n",
       "Bike Id               0\n",
       "User Type             0\n",
       "dtype: int64"
      ]
     },
     "metadata": {},
     "execution_count": 287
    }
   ],
   "source": [
    "# merge bikeshare stations with 2019~2020 bikeshare data to find missing End Station Name.\n",
    "\n",
    "merged_2019_2020 = pd.merge(merged_2019_2020, station_df, how='left', left_on='End Station Id', right_on='Station Id')\n",
    "merged_2019_2020['End Station Name'] = merged_2019_2020['End Station Name'].fillna(merged_2019_2020['Station Name'])\n",
    "\n",
    "merged_2019_2020 = merged_2019_2020[merged_2019_2020.columns[:-5]]\n",
    "\n",
    "find_missing(merged_2019_2020)\n",
    "\n",
    "# We have found all the missing values left in the dataset"
   ]
  },
  {
   "cell_type": "code",
   "execution_count": 288,
   "metadata": {},
   "outputs": [
    {
     "output_type": "execute_result",
     "data": {
      "text/plain": [
       "'99.97%'"
      ]
     },
     "metadata": {},
     "execution_count": 288
    }
   ],
   "source": [
    "no_missing_2019_2020 = merged_2019_2020\n",
    "\n",
    "\"{:.2%}\".format(len(no_missing_2019_2020)/len(raw_bikeshare_2019_2020))\n",
    "\n",
    "# In the end, we will be using 99.97% of the original raw bikeshare data between 2017~2018"
   ]
  },
  {
   "cell_type": "code",
   "execution_count": 289,
   "metadata": {},
   "outputs": [],
   "source": [
    "# Timestamp to EST\n",
    "# str[:-5] will remove the (EST) that will interfere with the conversion\n",
    "# We will be adding the 'Merge Time' used to mearge with the hourly weather data\n",
    "\n",
    "no_missing_2019_2020['Start Time'] = pd.to_datetime(no_missing_2019_2020['Start Time'].str[:-5]).dt.tz_localize('EST')\n",
    "no_missing_2019_2020['Merge Time'] = no_missing_2019_2020['Start Time'].dt.round('60min')\n",
    "\n",
    "no_missing_2019_2020['End Time'] = pd.to_datetime(no_missing_2019_2020['End Time'].str[:-5]).dt.tz_localize('EST')"
   ]
  },
  {
   "cell_type": "code",
   "execution_count": 290,
   "metadata": {},
   "outputs": [
    {
     "output_type": "stream",
     "name": "stdout",
     "text": [
      "A total of 38.74% rows that are missing 'Subscription Id' and 'Bike Id'\n"
     ]
    }
   ],
   "source": [
    "# As noted when our team recieved this project, there are 2 extra columns of 'Subscription Id' and 'Bike Id' in the 2019~2020 dataset that is not present in the 2017~2018 dataset. We will calculate the percentage of the total dataset from 2017~2020 that is missing 'Subscription Id' and 'Bike Id' to determine if these columns should be kept or not\n",
    "\n",
    "extra_columns_percent = 1 - len(no_missing_2019_2020)/(len(no_missing_2019_2020) + len(no_missing_2017_2018))\n",
    "print(\"A total of \" + \"{:.2%}\".format(extra_columns_percent) + \" rows that are missing 'Subscription Id' and 'Bike Id'\")"
   ]
  },
  {
   "cell_type": "code",
   "execution_count": 291,
   "metadata": {},
   "outputs": [
    {
     "output_type": "execute_result",
     "data": {
      "text/plain": [
       "   Trip Id  Subscription Id  Trip  Duration  Start Station Id  \\\n",
       "0  4581278           199751            1547              7021   \n",
       "1  4581279           294730            1112              7160   \n",
       "2  4581280           197252             589              7055   \n",
       "3  4581281           171700             259              7012   \n",
       "4  4581282           306314             281              7041   \n",
       "\n",
       "                 Start Time                       Start Station Name  \\\n",
       "0 2019-01-01 00:08:00-05:00                       Bay St / Albert St   \n",
       "1 2019-01-01 00:10:00-05:00                 King St W / Tecumseth St   \n",
       "2 2019-01-01 00:15:00-05:00                   Jarvis St / Carlton St   \n",
       "3 2019-01-01 00:16:00-05:00  Elizabeth St / Edward St (Bus Terminal)   \n",
       "4 2019-01-01 00:19:00-05:00                     Edward St / Yonge St   \n",
       "\n",
       "   End Station Id                  End Time  \\\n",
       "0          7233.0 2019-01-01 00:33:00-05:00   \n",
       "1          7051.0 2019-01-01 00:29:00-05:00   \n",
       "2          7013.0 2019-01-01 00:25:00-05:00   \n",
       "3          7235.0 2019-01-01 00:20:00-05:00   \n",
       "4          7257.0 2019-01-01 00:24:00-05:00   \n",
       "\n",
       "                          End Station Name  Bike Id      User Type  \\\n",
       "0                 King / Cowan Ave - SMART     1296  Annual Member   \n",
       "1      Wellesley St E / Yonge St (Green P)     2947  Annual Member   \n",
       "2                 Scott St / The Esplanade     2293  Annual Member   \n",
       "3  Bay St / College St (West Side) - SMART      283  Annual Member   \n",
       "4             Dundas St W / St. Patrick St     1799  Annual Member   \n",
       "\n",
       "                 Merge Time  \n",
       "0 2019-01-01 00:00:00-05:00  \n",
       "1 2019-01-01 00:00:00-05:00  \n",
       "2 2019-01-01 00:00:00-05:00  \n",
       "3 2019-01-01 00:00:00-05:00  \n",
       "4 2019-01-01 00:00:00-05:00  "
      ],
      "text/html": "<div>\n<style scoped>\n    .dataframe tbody tr th:only-of-type {\n        vertical-align: middle;\n    }\n\n    .dataframe tbody tr th {\n        vertical-align: top;\n    }\n\n    .dataframe thead th {\n        text-align: right;\n    }\n</style>\n<table border=\"1\" class=\"dataframe\">\n  <thead>\n    <tr style=\"text-align: right;\">\n      <th></th>\n      <th>Trip Id</th>\n      <th>Subscription Id</th>\n      <th>Trip  Duration</th>\n      <th>Start Station Id</th>\n      <th>Start Time</th>\n      <th>Start Station Name</th>\n      <th>End Station Id</th>\n      <th>End Time</th>\n      <th>End Station Name</th>\n      <th>Bike Id</th>\n      <th>User Type</th>\n      <th>Merge Time</th>\n    </tr>\n  </thead>\n  <tbody>\n    <tr>\n      <th>0</th>\n      <td>4581278</td>\n      <td>199751</td>\n      <td>1547</td>\n      <td>7021</td>\n      <td>2019-01-01 00:08:00-05:00</td>\n      <td>Bay St / Albert St</td>\n      <td>7233.0</td>\n      <td>2019-01-01 00:33:00-05:00</td>\n      <td>King / Cowan Ave - SMART</td>\n      <td>1296</td>\n      <td>Annual Member</td>\n      <td>2019-01-01 00:00:00-05:00</td>\n    </tr>\n    <tr>\n      <th>1</th>\n      <td>4581279</td>\n      <td>294730</td>\n      <td>1112</td>\n      <td>7160</td>\n      <td>2019-01-01 00:10:00-05:00</td>\n      <td>King St W / Tecumseth St</td>\n      <td>7051.0</td>\n      <td>2019-01-01 00:29:00-05:00</td>\n      <td>Wellesley St E / Yonge St (Green P)</td>\n      <td>2947</td>\n      <td>Annual Member</td>\n      <td>2019-01-01 00:00:00-05:00</td>\n    </tr>\n    <tr>\n      <th>2</th>\n      <td>4581280</td>\n      <td>197252</td>\n      <td>589</td>\n      <td>7055</td>\n      <td>2019-01-01 00:15:00-05:00</td>\n      <td>Jarvis St / Carlton St</td>\n      <td>7013.0</td>\n      <td>2019-01-01 00:25:00-05:00</td>\n      <td>Scott St / The Esplanade</td>\n      <td>2293</td>\n      <td>Annual Member</td>\n      <td>2019-01-01 00:00:00-05:00</td>\n    </tr>\n    <tr>\n      <th>3</th>\n      <td>4581281</td>\n      <td>171700</td>\n      <td>259</td>\n      <td>7012</td>\n      <td>2019-01-01 00:16:00-05:00</td>\n      <td>Elizabeth St / Edward St (Bus Terminal)</td>\n      <td>7235.0</td>\n      <td>2019-01-01 00:20:00-05:00</td>\n      <td>Bay St / College St (West Side) - SMART</td>\n      <td>283</td>\n      <td>Annual Member</td>\n      <td>2019-01-01 00:00:00-05:00</td>\n    </tr>\n    <tr>\n      <th>4</th>\n      <td>4581282</td>\n      <td>306314</td>\n      <td>281</td>\n      <td>7041</td>\n      <td>2019-01-01 00:19:00-05:00</td>\n      <td>Edward St / Yonge St</td>\n      <td>7257.0</td>\n      <td>2019-01-01 00:24:00-05:00</td>\n      <td>Dundas St W / St. Patrick St</td>\n      <td>1799</td>\n      <td>Annual Member</td>\n      <td>2019-01-01 00:00:00-05:00</td>\n    </tr>\n  </tbody>\n</table>\n</div>"
     },
     "metadata": {},
     "execution_count": 291
    }
   ],
   "source": [
    "# We could analyze only the 2019~2020 data for any 'Subscription Id' or 'Bike Id' related question if needed at later stages\n",
    "\n",
    "only_2019_2020 = no_missing_2019_2020.copy()\n",
    "only_2019_2020.head()"
   ]
  },
  {
   "cell_type": "code",
   "execution_count": 292,
   "metadata": {},
   "outputs": [
    {
     "output_type": "execute_result",
     "data": {
      "text/plain": [
       "   Trip Id  Trip  Duration  Start Station Id                Start Time  \\\n",
       "0  4581278            1547              7021 2019-01-01 00:08:00-05:00   \n",
       "1  4581279            1112              7160 2019-01-01 00:10:00-05:00   \n",
       "2  4581280             589              7055 2019-01-01 00:15:00-05:00   \n",
       "3  4581281             259              7012 2019-01-01 00:16:00-05:00   \n",
       "4  4581282             281              7041 2019-01-01 00:19:00-05:00   \n",
       "\n",
       "                        Start Station Name  End Station Id  \\\n",
       "0                       Bay St / Albert St          7233.0   \n",
       "1                 King St W / Tecumseth St          7051.0   \n",
       "2                   Jarvis St / Carlton St          7013.0   \n",
       "3  Elizabeth St / Edward St (Bus Terminal)          7235.0   \n",
       "4                     Edward St / Yonge St          7257.0   \n",
       "\n",
       "                   End Time                         End Station Name  \\\n",
       "0 2019-01-01 00:33:00-05:00                 King / Cowan Ave - SMART   \n",
       "1 2019-01-01 00:29:00-05:00      Wellesley St E / Yonge St (Green P)   \n",
       "2 2019-01-01 00:25:00-05:00                 Scott St / The Esplanade   \n",
       "3 2019-01-01 00:20:00-05:00  Bay St / College St (West Side) - SMART   \n",
       "4 2019-01-01 00:24:00-05:00             Dundas St W / St. Patrick St   \n",
       "\n",
       "       User Type                Merge Time  \n",
       "0  Annual Member 2019-01-01 00:00:00-05:00  \n",
       "1  Annual Member 2019-01-01 00:00:00-05:00  \n",
       "2  Annual Member 2019-01-01 00:00:00-05:00  \n",
       "3  Annual Member 2019-01-01 00:00:00-05:00  \n",
       "4  Annual Member 2019-01-01 00:00:00-05:00  "
      ],
      "text/html": "<div>\n<style scoped>\n    .dataframe tbody tr th:only-of-type {\n        vertical-align: middle;\n    }\n\n    .dataframe tbody tr th {\n        vertical-align: top;\n    }\n\n    .dataframe thead th {\n        text-align: right;\n    }\n</style>\n<table border=\"1\" class=\"dataframe\">\n  <thead>\n    <tr style=\"text-align: right;\">\n      <th></th>\n      <th>Trip Id</th>\n      <th>Trip  Duration</th>\n      <th>Start Station Id</th>\n      <th>Start Time</th>\n      <th>Start Station Name</th>\n      <th>End Station Id</th>\n      <th>End Time</th>\n      <th>End Station Name</th>\n      <th>User Type</th>\n      <th>Merge Time</th>\n    </tr>\n  </thead>\n  <tbody>\n    <tr>\n      <th>0</th>\n      <td>4581278</td>\n      <td>1547</td>\n      <td>7021</td>\n      <td>2019-01-01 00:08:00-05:00</td>\n      <td>Bay St / Albert St</td>\n      <td>7233.0</td>\n      <td>2019-01-01 00:33:00-05:00</td>\n      <td>King / Cowan Ave - SMART</td>\n      <td>Annual Member</td>\n      <td>2019-01-01 00:00:00-05:00</td>\n    </tr>\n    <tr>\n      <th>1</th>\n      <td>4581279</td>\n      <td>1112</td>\n      <td>7160</td>\n      <td>2019-01-01 00:10:00-05:00</td>\n      <td>King St W / Tecumseth St</td>\n      <td>7051.0</td>\n      <td>2019-01-01 00:29:00-05:00</td>\n      <td>Wellesley St E / Yonge St (Green P)</td>\n      <td>Annual Member</td>\n      <td>2019-01-01 00:00:00-05:00</td>\n    </tr>\n    <tr>\n      <th>2</th>\n      <td>4581280</td>\n      <td>589</td>\n      <td>7055</td>\n      <td>2019-01-01 00:15:00-05:00</td>\n      <td>Jarvis St / Carlton St</td>\n      <td>7013.0</td>\n      <td>2019-01-01 00:25:00-05:00</td>\n      <td>Scott St / The Esplanade</td>\n      <td>Annual Member</td>\n      <td>2019-01-01 00:00:00-05:00</td>\n    </tr>\n    <tr>\n      <th>3</th>\n      <td>4581281</td>\n      <td>259</td>\n      <td>7012</td>\n      <td>2019-01-01 00:16:00-05:00</td>\n      <td>Elizabeth St / Edward St (Bus Terminal)</td>\n      <td>7235.0</td>\n      <td>2019-01-01 00:20:00-05:00</td>\n      <td>Bay St / College St (West Side) - SMART</td>\n      <td>Annual Member</td>\n      <td>2019-01-01 00:00:00-05:00</td>\n    </tr>\n    <tr>\n      <th>4</th>\n      <td>4581282</td>\n      <td>281</td>\n      <td>7041</td>\n      <td>2019-01-01 00:19:00-05:00</td>\n      <td>Edward St / Yonge St</td>\n      <td>7257.0</td>\n      <td>2019-01-01 00:24:00-05:00</td>\n      <td>Dundas St W / St. Patrick St</td>\n      <td>Annual Member</td>\n      <td>2019-01-01 00:00:00-05:00</td>\n    </tr>\n  </tbody>\n</table>\n</div>"
     },
     "metadata": {},
     "execution_count": 292
    }
   ],
   "source": [
    "# Since we have close to 40% of our data that does not have 'Subscription Id' and 'Bike Id', we will drop these 2 columns\n",
    "\n",
    "no_missing_2019_2020 = no_missing_2019_2020.drop(['Subscription Id', 'Bike Id'], axis = 1) \n",
    "no_missing_2019_2020.head()"
   ]
  },
  {
   "cell_type": "code",
   "execution_count": 293,
   "metadata": {},
   "outputs": [],
   "source": [
    "# End station Id to int from float\n",
    "no_missing_2019_2020['End Station Id'] = no_missing_2019_2020['End Station Id'].astype('int')\n",
    "\n",
    "only_2019_2020['End Station Id'] = only_2019_2020['End Station Id'].astype('int')"
   ]
  },
  {
   "cell_type": "code",
   "execution_count": 294,
   "metadata": {},
   "outputs": [
    {
     "output_type": "execute_result",
     "data": {
      "text/plain": [
       "['Trip Id',\n",
       " 'Trip  Duration',\n",
       " 'Start Station Id',\n",
       " 'Start Time',\n",
       " 'Start Station Name',\n",
       " 'End Station Id',\n",
       " 'End Time',\n",
       " 'End Station Name',\n",
       " 'User Type',\n",
       " 'Merge Time']"
      ]
     },
     "metadata": {},
     "execution_count": 294
    }
   ],
   "source": [
    "# The last step before combining the 2 datasets together us to change the order of columns to match that of 2017~2018\n",
    "\n",
    "col = list(no_missing_2019_2020.columns.values)\n",
    "col\n",
    "\n",
    "# There seems to be an extra space in 'Trip Duration' that should be removed"
   ]
  },
  {
   "cell_type": "code",
   "execution_count": 295,
   "metadata": {},
   "outputs": [
    {
     "output_type": "execute_result",
     "data": {
      "text/plain": [
       "   Trip Id                Start Time                  End Time  Trip Duration  \\\n",
       "0  4581278 2019-01-01 00:08:00-05:00 2019-01-01 00:33:00-05:00           1547   \n",
       "1  4581279 2019-01-01 00:10:00-05:00 2019-01-01 00:29:00-05:00           1112   \n",
       "2  4581280 2019-01-01 00:15:00-05:00 2019-01-01 00:25:00-05:00            589   \n",
       "3  4581281 2019-01-01 00:16:00-05:00 2019-01-01 00:20:00-05:00            259   \n",
       "4  4581282 2019-01-01 00:19:00-05:00 2019-01-01 00:24:00-05:00            281   \n",
       "\n",
       "   Start Station Id                       Start Station Name  End Station Id  \\\n",
       "0              7021                       Bay St / Albert St            7233   \n",
       "1              7160                 King St W / Tecumseth St            7051   \n",
       "2              7055                   Jarvis St / Carlton St            7013   \n",
       "3              7012  Elizabeth St / Edward St (Bus Terminal)            7235   \n",
       "4              7041                     Edward St / Yonge St            7257   \n",
       "\n",
       "                          End Station Name      User Type  \\\n",
       "0                 King / Cowan Ave - SMART  Annual Member   \n",
       "1      Wellesley St E / Yonge St (Green P)  Annual Member   \n",
       "2                 Scott St / The Esplanade  Annual Member   \n",
       "3  Bay St / College St (West Side) - SMART  Annual Member   \n",
       "4             Dundas St W / St. Patrick St  Annual Member   \n",
       "\n",
       "                 Merge Time  \n",
       "0 2019-01-01 00:00:00-05:00  \n",
       "1 2019-01-01 00:00:00-05:00  \n",
       "2 2019-01-01 00:00:00-05:00  \n",
       "3 2019-01-01 00:00:00-05:00  \n",
       "4 2019-01-01 00:00:00-05:00  "
      ],
      "text/html": "<div>\n<style scoped>\n    .dataframe tbody tr th:only-of-type {\n        vertical-align: middle;\n    }\n\n    .dataframe tbody tr th {\n        vertical-align: top;\n    }\n\n    .dataframe thead th {\n        text-align: right;\n    }\n</style>\n<table border=\"1\" class=\"dataframe\">\n  <thead>\n    <tr style=\"text-align: right;\">\n      <th></th>\n      <th>Trip Id</th>\n      <th>Start Time</th>\n      <th>End Time</th>\n      <th>Trip Duration</th>\n      <th>Start Station Id</th>\n      <th>Start Station Name</th>\n      <th>End Station Id</th>\n      <th>End Station Name</th>\n      <th>User Type</th>\n      <th>Merge Time</th>\n    </tr>\n  </thead>\n  <tbody>\n    <tr>\n      <th>0</th>\n      <td>4581278</td>\n      <td>2019-01-01 00:08:00-05:00</td>\n      <td>2019-01-01 00:33:00-05:00</td>\n      <td>1547</td>\n      <td>7021</td>\n      <td>Bay St / Albert St</td>\n      <td>7233</td>\n      <td>King / Cowan Ave - SMART</td>\n      <td>Annual Member</td>\n      <td>2019-01-01 00:00:00-05:00</td>\n    </tr>\n    <tr>\n      <th>1</th>\n      <td>4581279</td>\n      <td>2019-01-01 00:10:00-05:00</td>\n      <td>2019-01-01 00:29:00-05:00</td>\n      <td>1112</td>\n      <td>7160</td>\n      <td>King St W / Tecumseth St</td>\n      <td>7051</td>\n      <td>Wellesley St E / Yonge St (Green P)</td>\n      <td>Annual Member</td>\n      <td>2019-01-01 00:00:00-05:00</td>\n    </tr>\n    <tr>\n      <th>2</th>\n      <td>4581280</td>\n      <td>2019-01-01 00:15:00-05:00</td>\n      <td>2019-01-01 00:25:00-05:00</td>\n      <td>589</td>\n      <td>7055</td>\n      <td>Jarvis St / Carlton St</td>\n      <td>7013</td>\n      <td>Scott St / The Esplanade</td>\n      <td>Annual Member</td>\n      <td>2019-01-01 00:00:00-05:00</td>\n    </tr>\n    <tr>\n      <th>3</th>\n      <td>4581281</td>\n      <td>2019-01-01 00:16:00-05:00</td>\n      <td>2019-01-01 00:20:00-05:00</td>\n      <td>259</td>\n      <td>7012</td>\n      <td>Elizabeth St / Edward St (Bus Terminal)</td>\n      <td>7235</td>\n      <td>Bay St / College St (West Side) - SMART</td>\n      <td>Annual Member</td>\n      <td>2019-01-01 00:00:00-05:00</td>\n    </tr>\n    <tr>\n      <th>4</th>\n      <td>4581282</td>\n      <td>2019-01-01 00:19:00-05:00</td>\n      <td>2019-01-01 00:24:00-05:00</td>\n      <td>281</td>\n      <td>7041</td>\n      <td>Edward St / Yonge St</td>\n      <td>7257</td>\n      <td>Dundas St W / St. Patrick St</td>\n      <td>Annual Member</td>\n      <td>2019-01-01 00:00:00-05:00</td>\n    </tr>\n  </tbody>\n</table>\n</div>"
     },
     "metadata": {},
     "execution_count": 295
    }
   ],
   "source": [
    "# Let's remap the columns to match the 2017~2018 data\n",
    "\n",
    "no_missing_2019_2020 = no_missing_2019_2020.rename(columns={'Trip  Duration':'Trip Duration'})\n",
    "\n",
    "no_missing_2019_2020 = no_missing_2019_2020[['Trip Id', 'Start Time', 'End Time', 'Trip Duration', 'Start Station Id', 'Start Station Name', 'End Station Id', 'End Station Name', 'User Type', 'Merge Time']]\n",
    "\n",
    "no_missing_2019_2020.head()"
   ]
  },
  {
   "cell_type": "code",
   "execution_count": 296,
   "metadata": {},
   "outputs": [
    {
     "output_type": "execute_result",
     "data": {
      "text/plain": [
       "   Trip Id  Subscription Id  Bike Id                Start Time  \\\n",
       "0  4581278           199751     1296 2019-01-01 00:08:00-05:00   \n",
       "1  4581279           294730     2947 2019-01-01 00:10:00-05:00   \n",
       "2  4581280           197252     2293 2019-01-01 00:15:00-05:00   \n",
       "3  4581281           171700      283 2019-01-01 00:16:00-05:00   \n",
       "4  4581282           306314     1799 2019-01-01 00:19:00-05:00   \n",
       "\n",
       "                   End Time  Trip Duration  Start Station Id  \\\n",
       "0 2019-01-01 00:33:00-05:00           1547              7021   \n",
       "1 2019-01-01 00:29:00-05:00           1112              7160   \n",
       "2 2019-01-01 00:25:00-05:00            589              7055   \n",
       "3 2019-01-01 00:20:00-05:00            259              7012   \n",
       "4 2019-01-01 00:24:00-05:00            281              7041   \n",
       "\n",
       "                        Start Station Name  End Station Id  \\\n",
       "0                       Bay St / Albert St            7233   \n",
       "1                 King St W / Tecumseth St            7051   \n",
       "2                   Jarvis St / Carlton St            7013   \n",
       "3  Elizabeth St / Edward St (Bus Terminal)            7235   \n",
       "4                     Edward St / Yonge St            7257   \n",
       "\n",
       "                          End Station Name      User Type  \\\n",
       "0                 King / Cowan Ave - SMART  Annual Member   \n",
       "1      Wellesley St E / Yonge St (Green P)  Annual Member   \n",
       "2                 Scott St / The Esplanade  Annual Member   \n",
       "3  Bay St / College St (West Side) - SMART  Annual Member   \n",
       "4             Dundas St W / St. Patrick St  Annual Member   \n",
       "\n",
       "                 Merge Time  \n",
       "0 2019-01-01 00:00:00-05:00  \n",
       "1 2019-01-01 00:00:00-05:00  \n",
       "2 2019-01-01 00:00:00-05:00  \n",
       "3 2019-01-01 00:00:00-05:00  \n",
       "4 2019-01-01 00:00:00-05:00  "
      ],
      "text/html": "<div>\n<style scoped>\n    .dataframe tbody tr th:only-of-type {\n        vertical-align: middle;\n    }\n\n    .dataframe tbody tr th {\n        vertical-align: top;\n    }\n\n    .dataframe thead th {\n        text-align: right;\n    }\n</style>\n<table border=\"1\" class=\"dataframe\">\n  <thead>\n    <tr style=\"text-align: right;\">\n      <th></th>\n      <th>Trip Id</th>\n      <th>Subscription Id</th>\n      <th>Bike Id</th>\n      <th>Start Time</th>\n      <th>End Time</th>\n      <th>Trip Duration</th>\n      <th>Start Station Id</th>\n      <th>Start Station Name</th>\n      <th>End Station Id</th>\n      <th>End Station Name</th>\n      <th>User Type</th>\n      <th>Merge Time</th>\n    </tr>\n  </thead>\n  <tbody>\n    <tr>\n      <th>0</th>\n      <td>4581278</td>\n      <td>199751</td>\n      <td>1296</td>\n      <td>2019-01-01 00:08:00-05:00</td>\n      <td>2019-01-01 00:33:00-05:00</td>\n      <td>1547</td>\n      <td>7021</td>\n      <td>Bay St / Albert St</td>\n      <td>7233</td>\n      <td>King / Cowan Ave - SMART</td>\n      <td>Annual Member</td>\n      <td>2019-01-01 00:00:00-05:00</td>\n    </tr>\n    <tr>\n      <th>1</th>\n      <td>4581279</td>\n      <td>294730</td>\n      <td>2947</td>\n      <td>2019-01-01 00:10:00-05:00</td>\n      <td>2019-01-01 00:29:00-05:00</td>\n      <td>1112</td>\n      <td>7160</td>\n      <td>King St W / Tecumseth St</td>\n      <td>7051</td>\n      <td>Wellesley St E / Yonge St (Green P)</td>\n      <td>Annual Member</td>\n      <td>2019-01-01 00:00:00-05:00</td>\n    </tr>\n    <tr>\n      <th>2</th>\n      <td>4581280</td>\n      <td>197252</td>\n      <td>2293</td>\n      <td>2019-01-01 00:15:00-05:00</td>\n      <td>2019-01-01 00:25:00-05:00</td>\n      <td>589</td>\n      <td>7055</td>\n      <td>Jarvis St / Carlton St</td>\n      <td>7013</td>\n      <td>Scott St / The Esplanade</td>\n      <td>Annual Member</td>\n      <td>2019-01-01 00:00:00-05:00</td>\n    </tr>\n    <tr>\n      <th>3</th>\n      <td>4581281</td>\n      <td>171700</td>\n      <td>283</td>\n      <td>2019-01-01 00:16:00-05:00</td>\n      <td>2019-01-01 00:20:00-05:00</td>\n      <td>259</td>\n      <td>7012</td>\n      <td>Elizabeth St / Edward St (Bus Terminal)</td>\n      <td>7235</td>\n      <td>Bay St / College St (West Side) - SMART</td>\n      <td>Annual Member</td>\n      <td>2019-01-01 00:00:00-05:00</td>\n    </tr>\n    <tr>\n      <th>4</th>\n      <td>4581282</td>\n      <td>306314</td>\n      <td>1799</td>\n      <td>2019-01-01 00:19:00-05:00</td>\n      <td>2019-01-01 00:24:00-05:00</td>\n      <td>281</td>\n      <td>7041</td>\n      <td>Edward St / Yonge St</td>\n      <td>7257</td>\n      <td>Dundas St W / St. Patrick St</td>\n      <td>Annual Member</td>\n      <td>2019-01-01 00:00:00-05:00</td>\n    </tr>\n  </tbody>\n</table>\n</div>"
     },
     "metadata": {},
     "execution_count": 296
    }
   ],
   "source": [
    "# We will do the same with the only 2019~2020 data\n",
    "\n",
    "only_2019_2020 = only_2019_2020.rename(columns={'Trip  Duration':'Trip Duration'})\n",
    "\n",
    "only_2019_2020 = only_2019_2020[['Trip Id', 'Subscription Id', 'Bike Id', 'Start Time', 'End Time', 'Trip Duration', 'Start Station Id', 'Start Station Name', 'End Station Id', 'End Station Name', 'User Type', 'Merge Time']]\n",
    "\n",
    "only_2019_2020.head()"
   ]
  },
  {
   "source": [
    "<h2> Combining Bikeshare 2017~2018 with 2019~2020 </h2>"
   ],
   "cell_type": "markdown",
   "metadata": {}
  },
  {
   "cell_type": "code",
   "execution_count": 297,
   "metadata": {},
   "outputs": [],
   "source": [
    "# Combine the 2 bikeshare data together\n",
    "\n",
    "bikeshare_df = no_missing_2017_2018.append(no_missing_2019_2020, ignore_index=True)"
   ]
  },
  {
   "cell_type": "code",
   "execution_count": 298,
   "metadata": {},
   "outputs": [
    {
     "output_type": "execute_result",
     "data": {
      "text/plain": [
       "array(['Member', 'Casual', 'Annual Member', 'Casual Member'], dtype=object)"
      ]
     },
     "metadata": {},
     "execution_count": 298
    }
   ],
   "source": [
    "# Remove the overlapping names in User Type\n",
    "\n",
    "bikeshare_df['User Type'].unique()"
   ]
  },
  {
   "cell_type": "code",
   "execution_count": 299,
   "metadata": {},
   "outputs": [
    {
     "output_type": "execute_result",
     "data": {
      "text/plain": [
       "array(['Annual Member', 'Casual Member'], dtype=object)"
      ]
     },
     "metadata": {},
     "execution_count": 299
    }
   ],
   "source": [
    "# There should be only be 2 types of members, we will convert 'Member' and 'Casual' to 'Annual Member' and 'Casual Member'\n",
    "\n",
    "bikeshare_df['User Type'] = bikeshare_df['User Type'].replace({'Member': 'Annual Member', 'Casual': 'Casual Member'})\n",
    "bikeshare_df['User Type'].unique()"
   ]
  },
  {
   "cell_type": "code",
   "execution_count": 300,
   "metadata": {},
   "outputs": [
    {
     "output_type": "execute_result",
     "data": {
      "text/plain": [
       "            Trip Id  Trip Duration  Start Station Id  End Station Id\n",
       "count  8.245040e+06   8.245040e+06      8.245040e+06    8.245040e+06\n",
       "mean   5.603315e+06   1.070320e+03      7.178719e+03    7.177912e+03\n",
       "std    2.733524e+06   1.161226e+04      1.446954e+02    1.443167e+02\n",
       "min    7.123820e+05   0.000000e+00      7.000000e+03    7.000000e+03\n",
       "25%    3.304106e+06   4.410000e+02      7.051000e+03    7.051000e+03\n",
       "50%    5.633330e+06   7.220000e+02      7.158000e+03    7.157000e+03\n",
       "75%    7.980158e+06   1.139000e+03      7.270000e+03    7.269000e+03\n",
       "max    1.029388e+07   1.240378e+07      7.667000e+03    7.667000e+03"
      ],
      "text/html": "<div>\n<style scoped>\n    .dataframe tbody tr th:only-of-type {\n        vertical-align: middle;\n    }\n\n    .dataframe tbody tr th {\n        vertical-align: top;\n    }\n\n    .dataframe thead th {\n        text-align: right;\n    }\n</style>\n<table border=\"1\" class=\"dataframe\">\n  <thead>\n    <tr style=\"text-align: right;\">\n      <th></th>\n      <th>Trip Id</th>\n      <th>Trip Duration</th>\n      <th>Start Station Id</th>\n      <th>End Station Id</th>\n    </tr>\n  </thead>\n  <tbody>\n    <tr>\n      <th>count</th>\n      <td>8.245040e+06</td>\n      <td>8.245040e+06</td>\n      <td>8.245040e+06</td>\n      <td>8.245040e+06</td>\n    </tr>\n    <tr>\n      <th>mean</th>\n      <td>5.603315e+06</td>\n      <td>1.070320e+03</td>\n      <td>7.178719e+03</td>\n      <td>7.177912e+03</td>\n    </tr>\n    <tr>\n      <th>std</th>\n      <td>2.733524e+06</td>\n      <td>1.161226e+04</td>\n      <td>1.446954e+02</td>\n      <td>1.443167e+02</td>\n    </tr>\n    <tr>\n      <th>min</th>\n      <td>7.123820e+05</td>\n      <td>0.000000e+00</td>\n      <td>7.000000e+03</td>\n      <td>7.000000e+03</td>\n    </tr>\n    <tr>\n      <th>25%</th>\n      <td>3.304106e+06</td>\n      <td>4.410000e+02</td>\n      <td>7.051000e+03</td>\n      <td>7.051000e+03</td>\n    </tr>\n    <tr>\n      <th>50%</th>\n      <td>5.633330e+06</td>\n      <td>7.220000e+02</td>\n      <td>7.158000e+03</td>\n      <td>7.157000e+03</td>\n    </tr>\n    <tr>\n      <th>75%</th>\n      <td>7.980158e+06</td>\n      <td>1.139000e+03</td>\n      <td>7.270000e+03</td>\n      <td>7.269000e+03</td>\n    </tr>\n    <tr>\n      <th>max</th>\n      <td>1.029388e+07</td>\n      <td>1.240378e+07</td>\n      <td>7.667000e+03</td>\n      <td>7.667000e+03</td>\n    </tr>\n  </tbody>\n</table>\n</div>"
     },
     "metadata": {},
     "execution_count": 300
    }
   ],
   "source": [
    "# Check for outliers\n",
    "\n",
    "bikeshare_df.describe()\n",
    "\n",
    "# Seems like there are trips that are 0 seconds which does not seem plausible. The max trip is roughly 143.5 days which is also not reasonable too "
   ]
  },
  {
   "cell_type": "code",
   "execution_count": 301,
   "metadata": {},
   "outputs": [
    {
     "output_type": "execute_result",
     "data": {
      "text/plain": [
       "            Trip Id  Trip Duration  Start Station Id  End Station Id\n",
       "count  7.835134e+06   7.835134e+06      7.835134e+06    7.835134e+06\n",
       "mean   5.613399e+06   7.865584e+02      7.177588e+03    7.176582e+03\n",
       "std    2.727796e+06   4.447951e+02      1.441453e+02    1.437636e+02\n",
       "min    7.123820e+05   6.000000e+01      7.000000e+03    7.000000e+03\n",
       "25%    3.331983e+06   4.340000e+02      7.051000e+03    7.050000e+03\n",
       "50%    5.645072e+06   6.970000e+02      7.155000e+03    7.154000e+03\n",
       "75%    7.965562e+06   1.072000e+03      7.269000e+03    7.267000e+03\n",
       "max    1.029388e+07   2.190000e+03      7.667000e+03    7.667000e+03"
      ],
      "text/html": "<div>\n<style scoped>\n    .dataframe tbody tr th:only-of-type {\n        vertical-align: middle;\n    }\n\n    .dataframe tbody tr th {\n        vertical-align: top;\n    }\n\n    .dataframe thead th {\n        text-align: right;\n    }\n</style>\n<table border=\"1\" class=\"dataframe\">\n  <thead>\n    <tr style=\"text-align: right;\">\n      <th></th>\n      <th>Trip Id</th>\n      <th>Trip Duration</th>\n      <th>Start Station Id</th>\n      <th>End Station Id</th>\n    </tr>\n  </thead>\n  <tbody>\n    <tr>\n      <th>count</th>\n      <td>7.835134e+06</td>\n      <td>7.835134e+06</td>\n      <td>7.835134e+06</td>\n      <td>7.835134e+06</td>\n    </tr>\n    <tr>\n      <th>mean</th>\n      <td>5.613399e+06</td>\n      <td>7.865584e+02</td>\n      <td>7.177588e+03</td>\n      <td>7.176582e+03</td>\n    </tr>\n    <tr>\n      <th>std</th>\n      <td>2.727796e+06</td>\n      <td>4.447951e+02</td>\n      <td>1.441453e+02</td>\n      <td>1.437636e+02</td>\n    </tr>\n    <tr>\n      <th>min</th>\n      <td>7.123820e+05</td>\n      <td>6.000000e+01</td>\n      <td>7.000000e+03</td>\n      <td>7.000000e+03</td>\n    </tr>\n    <tr>\n      <th>25%</th>\n      <td>3.331983e+06</td>\n      <td>4.340000e+02</td>\n      <td>7.051000e+03</td>\n      <td>7.050000e+03</td>\n    </tr>\n    <tr>\n      <th>50%</th>\n      <td>5.645072e+06</td>\n      <td>6.970000e+02</td>\n      <td>7.155000e+03</td>\n      <td>7.154000e+03</td>\n    </tr>\n    <tr>\n      <th>75%</th>\n      <td>7.965562e+06</td>\n      <td>1.072000e+03</td>\n      <td>7.269000e+03</td>\n      <td>7.267000e+03</td>\n    </tr>\n    <tr>\n      <th>max</th>\n      <td>1.029388e+07</td>\n      <td>2.190000e+03</td>\n      <td>7.667000e+03</td>\n      <td>7.667000e+03</td>\n    </tr>\n  </tbody>\n</table>\n</div>"
     },
     "metadata": {},
     "execution_count": 301
    }
   ],
   "source": [
    "# We will create a function that only keep trips that are at least 60 seconds. Afterwards we will remove any outliers that are less than Q1 - 1.5 * IQR and greater than Q3 + 1.5 * IQR\n",
    "\n",
    "def duration_outlier(data, column):\n",
    "    data = data[[i for i in data[column] >= 60]]\n",
    "\n",
    "    q1 = data[column].quantile(0.25)\n",
    "    q3 = data[column].quantile(0.75)\n",
    "    iqr = q3 - q1\n",
    "    upper = q3 + 1.5*iqr\n",
    "    lower = q1 - 1.5*iqr\n",
    "\n",
    "    data = data[(data[column] >= lower) & (data[column] <= upper)]\n",
    "\n",
    "    return data\n",
    "    \n",
    "\n",
    "bikeshare_df = duration_outlier(bikeshare_df, 'Trip Duration')\n",
    "bikeshare_df.describe()\n"
   ]
  },
  {
   "cell_type": "code",
   "execution_count": 302,
   "metadata": {},
   "outputs": [
    {
     "output_type": "execute_result",
     "data": {
      "text/plain": [
       "36.5"
      ]
     },
     "metadata": {},
     "execution_count": 302
    }
   ],
   "source": [
    "# The new minimum trip time is 60 seconds and the max trip is 36.5 minutes\n",
    "\n",
    "bikeshare_df['Trip Duration'].max()/60"
   ]
  },
  {
   "cell_type": "code",
   "execution_count": 303,
   "metadata": {},
   "outputs": [
    {
     "output_type": "execute_result",
     "data": {
      "text/plain": [
       "Trip Id                 0\n",
       "Start Time              0\n",
       "End Time                0\n",
       "Trip Duration           0\n",
       "Start Station Id        0\n",
       "Start Station Name      0\n",
       "End Station Id          0\n",
       "End Station Name        0\n",
       "User Type               0\n",
       "Merge Time              0\n",
       "lat                   242\n",
       "lon                   242\n",
       "capacity              242\n",
       "dtype: int64"
      ]
     },
     "metadata": {},
     "execution_count": 303
    }
   ],
   "source": [
    "# Finally we can include the latitude, longitude, and capacity of the starting stations and end stations in case we need geographical analysis later on by merging\n",
    "\n",
    "# Start Station\n",
    "bikeshare_df = pd.merge(bikeshare_df, station_df, how='left', left_on='Start Station Id', right_on='Station Id')\n",
    "bikeshare_df  = bikeshare_df.drop(columns=['Station Id', 'Station Name'])\n",
    "\n",
    "find_missing(bikeshare_df)\n",
    "\n",
    "# The 242 missing data from all the station_df means that this station's geographical data does not exist. We will remove these entries"
   ]
  },
  {
   "cell_type": "code",
   "execution_count": 304,
   "metadata": {},
   "outputs": [
    {
     "output_type": "execute_result",
     "data": {
      "text/plain": [
       "   Trip Id                 Start Time                   End Time  \\\n",
       "0   712441  2017-01-01 00:03:00-05:00  2017-01-01 00:08:00-05:00   \n",
       "1   712442  2017-01-01 00:03:00-05:00  2017-01-01 00:12:00-05:00   \n",
       "2   712443  2017-01-01 00:05:00-05:00  2017-01-01 00:22:00-05:00   \n",
       "3   712444  2017-01-01 00:09:00-05:00  2017-01-01 00:26:00-05:00   \n",
       "4   712445  2017-01-01 00:14:00-05:00  2017-01-01 00:25:00-05:00   \n",
       "\n",
       "   Trip Duration  Start Station Id  \\\n",
       "0            274              7006   \n",
       "1            538              7046   \n",
       "2            992              7048   \n",
       "3           1005              7177   \n",
       "4            645              7203   \n",
       "\n",
       "                              Start Station Name  End Station Id  \\\n",
       "0                Bay St / College St (East Side)            7021   \n",
       "1                     Niagara St / Richmond St W            7147   \n",
       "2      Front St / Yonge St (Hockey Hall of Fame)            7089   \n",
       "3                East Liberty St / Pirandello St            7202   \n",
       "4  Bathurst St/Queens Quay(Billy Bishop Airport)            7010   \n",
       "\n",
       "                   End Station Name      User Type                 Merge Time  \\\n",
       "0                Bay St / Albert St  Annual Member  2017-01-01 00:00:00-05:00   \n",
       "1            King St W / Fraser Ave  Annual Member  2017-01-01 00:00:00-05:00   \n",
       "2              Church St  / Wood St  Annual Member  2017-01-01 00:00:00-05:00   \n",
       "3  Queen St W / York St (City Hall)  Annual Member  2017-01-01 00:00:00-05:00   \n",
       "4           King St W / Spadina Ave  Annual Member  2017-01-01 00:00:00-05:00   \n",
       "\n",
       "   Start Latitude  Start Longitude  Start Capacity  \n",
       "0       43.660439       -79.385525            11.0  \n",
       "1       43.645340       -79.409597            26.0  \n",
       "2       43.646144       -79.377962            47.0  \n",
       "3       43.638611       -79.414722            19.0  \n",
       "4       43.635492       -79.398253            35.0  "
      ],
      "text/html": "<div>\n<style scoped>\n    .dataframe tbody tr th:only-of-type {\n        vertical-align: middle;\n    }\n\n    .dataframe tbody tr th {\n        vertical-align: top;\n    }\n\n    .dataframe thead th {\n        text-align: right;\n    }\n</style>\n<table border=\"1\" class=\"dataframe\">\n  <thead>\n    <tr style=\"text-align: right;\">\n      <th></th>\n      <th>Trip Id</th>\n      <th>Start Time</th>\n      <th>End Time</th>\n      <th>Trip Duration</th>\n      <th>Start Station Id</th>\n      <th>Start Station Name</th>\n      <th>End Station Id</th>\n      <th>End Station Name</th>\n      <th>User Type</th>\n      <th>Merge Time</th>\n      <th>Start Latitude</th>\n      <th>Start Longitude</th>\n      <th>Start Capacity</th>\n    </tr>\n  </thead>\n  <tbody>\n    <tr>\n      <th>0</th>\n      <td>712441</td>\n      <td>2017-01-01 00:03:00-05:00</td>\n      <td>2017-01-01 00:08:00-05:00</td>\n      <td>274</td>\n      <td>7006</td>\n      <td>Bay St / College St (East Side)</td>\n      <td>7021</td>\n      <td>Bay St / Albert St</td>\n      <td>Annual Member</td>\n      <td>2017-01-01 00:00:00-05:00</td>\n      <td>43.660439</td>\n      <td>-79.385525</td>\n      <td>11.0</td>\n    </tr>\n    <tr>\n      <th>1</th>\n      <td>712442</td>\n      <td>2017-01-01 00:03:00-05:00</td>\n      <td>2017-01-01 00:12:00-05:00</td>\n      <td>538</td>\n      <td>7046</td>\n      <td>Niagara St / Richmond St W</td>\n      <td>7147</td>\n      <td>King St W / Fraser Ave</td>\n      <td>Annual Member</td>\n      <td>2017-01-01 00:00:00-05:00</td>\n      <td>43.645340</td>\n      <td>-79.409597</td>\n      <td>26.0</td>\n    </tr>\n    <tr>\n      <th>2</th>\n      <td>712443</td>\n      <td>2017-01-01 00:05:00-05:00</td>\n      <td>2017-01-01 00:22:00-05:00</td>\n      <td>992</td>\n      <td>7048</td>\n      <td>Front St / Yonge St (Hockey Hall of Fame)</td>\n      <td>7089</td>\n      <td>Church St  / Wood St</td>\n      <td>Annual Member</td>\n      <td>2017-01-01 00:00:00-05:00</td>\n      <td>43.646144</td>\n      <td>-79.377962</td>\n      <td>47.0</td>\n    </tr>\n    <tr>\n      <th>3</th>\n      <td>712444</td>\n      <td>2017-01-01 00:09:00-05:00</td>\n      <td>2017-01-01 00:26:00-05:00</td>\n      <td>1005</td>\n      <td>7177</td>\n      <td>East Liberty St / Pirandello St</td>\n      <td>7202</td>\n      <td>Queen St W / York St (City Hall)</td>\n      <td>Annual Member</td>\n      <td>2017-01-01 00:00:00-05:00</td>\n      <td>43.638611</td>\n      <td>-79.414722</td>\n      <td>19.0</td>\n    </tr>\n    <tr>\n      <th>4</th>\n      <td>712445</td>\n      <td>2017-01-01 00:14:00-05:00</td>\n      <td>2017-01-01 00:25:00-05:00</td>\n      <td>645</td>\n      <td>7203</td>\n      <td>Bathurst St/Queens Quay(Billy Bishop Airport)</td>\n      <td>7010</td>\n      <td>King St W / Spadina Ave</td>\n      <td>Annual Member</td>\n      <td>2017-01-01 00:00:00-05:00</td>\n      <td>43.635492</td>\n      <td>-79.398253</td>\n      <td>35.0</td>\n    </tr>\n  </tbody>\n</table>\n</div>"
     },
     "metadata": {},
     "execution_count": 304
    }
   ],
   "source": [
    "# Drop NAs\n",
    "bikeshare_df = bikeshare_df.dropna()\n",
    "\n",
    "# We will rename the new columns to distinguish them from the end station data\n",
    "\n",
    "bikeshare_df = bikeshare_df.rename(columns={'lat':'Start Latitude', 'lon': 'Start Longitude', 'capacity': 'Start Capacity'})\n",
    "\n",
    "bikeshare_df.head() "
   ]
  },
  {
   "cell_type": "code",
   "execution_count": 305,
   "metadata": {},
   "outputs": [
    {
     "output_type": "execute_result",
     "data": {
      "text/plain": [
       "Trip Id                 0\n",
       "Start Time              0\n",
       "End Time                0\n",
       "Trip Duration           0\n",
       "Start Station Id        0\n",
       "Start Station Name      0\n",
       "End Station Id          0\n",
       "End Station Name        0\n",
       "User Type               0\n",
       "Merge Time              0\n",
       "Start Latitude          0\n",
       "Start Longitude         0\n",
       "Start Capacity          0\n",
       "lat                   416\n",
       "lon                   416\n",
       "capacity              416\n",
       "dtype: int64"
      ]
     },
     "metadata": {},
     "execution_count": 305
    }
   ],
   "source": [
    "# End Station\n",
    "bikeshare_df = pd.merge(bikeshare_df, station_df, how='left', left_on='End Station Id', right_on='Station Id')\n",
    "bikeshare_df = bikeshare_df.drop(columns=['Station Id', 'Station Name'])\n",
    "\n",
    "find_missing(bikeshare_df)\n",
    "\n",
    "# The 416 missing data from all the station_df means that this station's geographical data does not exist. We will remove these entries"
   ]
  },
  {
   "cell_type": "code",
   "execution_count": 306,
   "metadata": {},
   "outputs": [
    {
     "output_type": "execute_result",
     "data": {
      "text/plain": [
       "   Trip Id                 Start Time                   End Time  \\\n",
       "0   712441  2017-01-01 00:03:00-05:00  2017-01-01 00:08:00-05:00   \n",
       "1   712442  2017-01-01 00:03:00-05:00  2017-01-01 00:12:00-05:00   \n",
       "2   712443  2017-01-01 00:05:00-05:00  2017-01-01 00:22:00-05:00   \n",
       "3   712444  2017-01-01 00:09:00-05:00  2017-01-01 00:26:00-05:00   \n",
       "4   712445  2017-01-01 00:14:00-05:00  2017-01-01 00:25:00-05:00   \n",
       "\n",
       "   Trip Duration  Start Station Id  \\\n",
       "0            274              7006   \n",
       "1            538              7046   \n",
       "2            992              7048   \n",
       "3           1005              7177   \n",
       "4            645              7203   \n",
       "\n",
       "                              Start Station Name  End Station Id  \\\n",
       "0                Bay St / College St (East Side)            7021   \n",
       "1                     Niagara St / Richmond St W            7147   \n",
       "2      Front St / Yonge St (Hockey Hall of Fame)            7089   \n",
       "3                East Liberty St / Pirandello St            7202   \n",
       "4  Bathurst St/Queens Quay(Billy Bishop Airport)            7010   \n",
       "\n",
       "                   End Station Name      User Type                 Merge Time  \\\n",
       "0                Bay St / Albert St  Annual Member  2017-01-01 00:00:00-05:00   \n",
       "1            King St W / Fraser Ave  Annual Member  2017-01-01 00:00:00-05:00   \n",
       "2              Church St  / Wood St  Annual Member  2017-01-01 00:00:00-05:00   \n",
       "3  Queen St W / York St (City Hall)  Annual Member  2017-01-01 00:00:00-05:00   \n",
       "4           King St W / Spadina Ave  Annual Member  2017-01-01 00:00:00-05:00   \n",
       "\n",
       "   Start Latitude  Start Longitude  Start Capacity  End Latitude  \\\n",
       "0       43.660439       -79.385525            11.0     43.653264   \n",
       "1       43.645340       -79.409597            26.0     43.639444   \n",
       "2       43.646144       -79.377962            47.0     43.662712   \n",
       "3       43.638611       -79.414722            19.0     43.651667   \n",
       "4       43.635492       -79.398253            35.0     43.645323   \n",
       "\n",
       "   End Longitude  End Capacity  \n",
       "0     -79.382458          35.0  \n",
       "1     -79.425278          15.0  \n",
       "2     -79.379903          19.0  \n",
       "3     -79.384167          31.0  \n",
       "4     -79.395003          19.0  "
      ],
      "text/html": "<div>\n<style scoped>\n    .dataframe tbody tr th:only-of-type {\n        vertical-align: middle;\n    }\n\n    .dataframe tbody tr th {\n        vertical-align: top;\n    }\n\n    .dataframe thead th {\n        text-align: right;\n    }\n</style>\n<table border=\"1\" class=\"dataframe\">\n  <thead>\n    <tr style=\"text-align: right;\">\n      <th></th>\n      <th>Trip Id</th>\n      <th>Start Time</th>\n      <th>End Time</th>\n      <th>Trip Duration</th>\n      <th>Start Station Id</th>\n      <th>Start Station Name</th>\n      <th>End Station Id</th>\n      <th>End Station Name</th>\n      <th>User Type</th>\n      <th>Merge Time</th>\n      <th>Start Latitude</th>\n      <th>Start Longitude</th>\n      <th>Start Capacity</th>\n      <th>End Latitude</th>\n      <th>End Longitude</th>\n      <th>End Capacity</th>\n    </tr>\n  </thead>\n  <tbody>\n    <tr>\n      <th>0</th>\n      <td>712441</td>\n      <td>2017-01-01 00:03:00-05:00</td>\n      <td>2017-01-01 00:08:00-05:00</td>\n      <td>274</td>\n      <td>7006</td>\n      <td>Bay St / College St (East Side)</td>\n      <td>7021</td>\n      <td>Bay St / Albert St</td>\n      <td>Annual Member</td>\n      <td>2017-01-01 00:00:00-05:00</td>\n      <td>43.660439</td>\n      <td>-79.385525</td>\n      <td>11.0</td>\n      <td>43.653264</td>\n      <td>-79.382458</td>\n      <td>35.0</td>\n    </tr>\n    <tr>\n      <th>1</th>\n      <td>712442</td>\n      <td>2017-01-01 00:03:00-05:00</td>\n      <td>2017-01-01 00:12:00-05:00</td>\n      <td>538</td>\n      <td>7046</td>\n      <td>Niagara St / Richmond St W</td>\n      <td>7147</td>\n      <td>King St W / Fraser Ave</td>\n      <td>Annual Member</td>\n      <td>2017-01-01 00:00:00-05:00</td>\n      <td>43.645340</td>\n      <td>-79.409597</td>\n      <td>26.0</td>\n      <td>43.639444</td>\n      <td>-79.425278</td>\n      <td>15.0</td>\n    </tr>\n    <tr>\n      <th>2</th>\n      <td>712443</td>\n      <td>2017-01-01 00:05:00-05:00</td>\n      <td>2017-01-01 00:22:00-05:00</td>\n      <td>992</td>\n      <td>7048</td>\n      <td>Front St / Yonge St (Hockey Hall of Fame)</td>\n      <td>7089</td>\n      <td>Church St  / Wood St</td>\n      <td>Annual Member</td>\n      <td>2017-01-01 00:00:00-05:00</td>\n      <td>43.646144</td>\n      <td>-79.377962</td>\n      <td>47.0</td>\n      <td>43.662712</td>\n      <td>-79.379903</td>\n      <td>19.0</td>\n    </tr>\n    <tr>\n      <th>3</th>\n      <td>712444</td>\n      <td>2017-01-01 00:09:00-05:00</td>\n      <td>2017-01-01 00:26:00-05:00</td>\n      <td>1005</td>\n      <td>7177</td>\n      <td>East Liberty St / Pirandello St</td>\n      <td>7202</td>\n      <td>Queen St W / York St (City Hall)</td>\n      <td>Annual Member</td>\n      <td>2017-01-01 00:00:00-05:00</td>\n      <td>43.638611</td>\n      <td>-79.414722</td>\n      <td>19.0</td>\n      <td>43.651667</td>\n      <td>-79.384167</td>\n      <td>31.0</td>\n    </tr>\n    <tr>\n      <th>4</th>\n      <td>712445</td>\n      <td>2017-01-01 00:14:00-05:00</td>\n      <td>2017-01-01 00:25:00-05:00</td>\n      <td>645</td>\n      <td>7203</td>\n      <td>Bathurst St/Queens Quay(Billy Bishop Airport)</td>\n      <td>7010</td>\n      <td>King St W / Spadina Ave</td>\n      <td>Annual Member</td>\n      <td>2017-01-01 00:00:00-05:00</td>\n      <td>43.635492</td>\n      <td>-79.398253</td>\n      <td>35.0</td>\n      <td>43.645323</td>\n      <td>-79.395003</td>\n      <td>19.0</td>\n    </tr>\n  </tbody>\n</table>\n</div>"
     },
     "metadata": {},
     "execution_count": 306
    }
   ],
   "source": [
    "# Drop NAs\n",
    "bikeshare_df = bikeshare_df.dropna()\n",
    "\n",
    "# Rename columns for End Stations\n",
    "\n",
    "bikeshare_df = bikeshare_df.rename(columns={'lat': 'End Latitude', 'lon': 'End Longitude', 'capacity': 'End Capacity'})\n",
    "\n",
    "bikeshare_df.head() "
   ]
  },
  {
   "cell_type": "code",
   "execution_count": 307,
   "metadata": {},
   "outputs": [
    {
     "output_type": "execute_result",
     "data": {
      "text/plain": [
       "   Trip Id                 Start Time                   End Time  \\\n",
       "0   712441  2017-01-01 00:03:00-05:00  2017-01-01 00:08:00-05:00   \n",
       "1   712442  2017-01-01 00:03:00-05:00  2017-01-01 00:12:00-05:00   \n",
       "2   712443  2017-01-01 00:05:00-05:00  2017-01-01 00:22:00-05:00   \n",
       "3   712444  2017-01-01 00:09:00-05:00  2017-01-01 00:26:00-05:00   \n",
       "4   712445  2017-01-01 00:14:00-05:00  2017-01-01 00:25:00-05:00   \n",
       "\n",
       "   Trip Duration  Start Station Id  \\\n",
       "0            274              7006   \n",
       "1            538              7046   \n",
       "2            992              7048   \n",
       "3           1005              7177   \n",
       "4            645              7203   \n",
       "\n",
       "                              Start Station Name  End Station Id  \\\n",
       "0                Bay St / College St (East Side)            7021   \n",
       "1                     Niagara St / Richmond St W            7147   \n",
       "2      Front St / Yonge St (Hockey Hall of Fame)            7089   \n",
       "3                East Liberty St / Pirandello St            7202   \n",
       "4  Bathurst St/Queens Quay(Billy Bishop Airport)            7010   \n",
       "\n",
       "                   End Station Name  Start Latitude  Start Longitude  \\\n",
       "0                Bay St / Albert St       43.660439       -79.385525   \n",
       "1            King St W / Fraser Ave       43.645340       -79.409597   \n",
       "2              Church St  / Wood St       43.646144       -79.377962   \n",
       "3  Queen St W / York St (City Hall)       43.638611       -79.414722   \n",
       "4           King St W / Spadina Ave       43.635492       -79.398253   \n",
       "\n",
       "   Start Capacity  End Latitude  End Longitude  End Capacity      User Type  \\\n",
       "0            11.0     43.653264     -79.382458          35.0  Annual Member   \n",
       "1            26.0     43.639444     -79.425278          15.0  Annual Member   \n",
       "2            47.0     43.662712     -79.379903          19.0  Annual Member   \n",
       "3            19.0     43.651667     -79.384167          31.0  Annual Member   \n",
       "4            35.0     43.645323     -79.395003          19.0  Annual Member   \n",
       "\n",
       "                  Merge Time  \n",
       "0  2017-01-01 00:00:00-05:00  \n",
       "1  2017-01-01 00:00:00-05:00  \n",
       "2  2017-01-01 00:00:00-05:00  \n",
       "3  2017-01-01 00:00:00-05:00  \n",
       "4  2017-01-01 00:00:00-05:00  "
      ],
      "text/html": "<div>\n<style scoped>\n    .dataframe tbody tr th:only-of-type {\n        vertical-align: middle;\n    }\n\n    .dataframe tbody tr th {\n        vertical-align: top;\n    }\n\n    .dataframe thead th {\n        text-align: right;\n    }\n</style>\n<table border=\"1\" class=\"dataframe\">\n  <thead>\n    <tr style=\"text-align: right;\">\n      <th></th>\n      <th>Trip Id</th>\n      <th>Start Time</th>\n      <th>End Time</th>\n      <th>Trip Duration</th>\n      <th>Start Station Id</th>\n      <th>Start Station Name</th>\n      <th>End Station Id</th>\n      <th>End Station Name</th>\n      <th>Start Latitude</th>\n      <th>Start Longitude</th>\n      <th>Start Capacity</th>\n      <th>End Latitude</th>\n      <th>End Longitude</th>\n      <th>End Capacity</th>\n      <th>User Type</th>\n      <th>Merge Time</th>\n    </tr>\n  </thead>\n  <tbody>\n    <tr>\n      <th>0</th>\n      <td>712441</td>\n      <td>2017-01-01 00:03:00-05:00</td>\n      <td>2017-01-01 00:08:00-05:00</td>\n      <td>274</td>\n      <td>7006</td>\n      <td>Bay St / College St (East Side)</td>\n      <td>7021</td>\n      <td>Bay St / Albert St</td>\n      <td>43.660439</td>\n      <td>-79.385525</td>\n      <td>11.0</td>\n      <td>43.653264</td>\n      <td>-79.382458</td>\n      <td>35.0</td>\n      <td>Annual Member</td>\n      <td>2017-01-01 00:00:00-05:00</td>\n    </tr>\n    <tr>\n      <th>1</th>\n      <td>712442</td>\n      <td>2017-01-01 00:03:00-05:00</td>\n      <td>2017-01-01 00:12:00-05:00</td>\n      <td>538</td>\n      <td>7046</td>\n      <td>Niagara St / Richmond St W</td>\n      <td>7147</td>\n      <td>King St W / Fraser Ave</td>\n      <td>43.645340</td>\n      <td>-79.409597</td>\n      <td>26.0</td>\n      <td>43.639444</td>\n      <td>-79.425278</td>\n      <td>15.0</td>\n      <td>Annual Member</td>\n      <td>2017-01-01 00:00:00-05:00</td>\n    </tr>\n    <tr>\n      <th>2</th>\n      <td>712443</td>\n      <td>2017-01-01 00:05:00-05:00</td>\n      <td>2017-01-01 00:22:00-05:00</td>\n      <td>992</td>\n      <td>7048</td>\n      <td>Front St / Yonge St (Hockey Hall of Fame)</td>\n      <td>7089</td>\n      <td>Church St  / Wood St</td>\n      <td>43.646144</td>\n      <td>-79.377962</td>\n      <td>47.0</td>\n      <td>43.662712</td>\n      <td>-79.379903</td>\n      <td>19.0</td>\n      <td>Annual Member</td>\n      <td>2017-01-01 00:00:00-05:00</td>\n    </tr>\n    <tr>\n      <th>3</th>\n      <td>712444</td>\n      <td>2017-01-01 00:09:00-05:00</td>\n      <td>2017-01-01 00:26:00-05:00</td>\n      <td>1005</td>\n      <td>7177</td>\n      <td>East Liberty St / Pirandello St</td>\n      <td>7202</td>\n      <td>Queen St W / York St (City Hall)</td>\n      <td>43.638611</td>\n      <td>-79.414722</td>\n      <td>19.0</td>\n      <td>43.651667</td>\n      <td>-79.384167</td>\n      <td>31.0</td>\n      <td>Annual Member</td>\n      <td>2017-01-01 00:00:00-05:00</td>\n    </tr>\n    <tr>\n      <th>4</th>\n      <td>712445</td>\n      <td>2017-01-01 00:14:00-05:00</td>\n      <td>2017-01-01 00:25:00-05:00</td>\n      <td>645</td>\n      <td>7203</td>\n      <td>Bathurst St/Queens Quay(Billy Bishop Airport)</td>\n      <td>7010</td>\n      <td>King St W / Spadina Ave</td>\n      <td>43.635492</td>\n      <td>-79.398253</td>\n      <td>35.0</td>\n      <td>43.645323</td>\n      <td>-79.395003</td>\n      <td>19.0</td>\n      <td>Annual Member</td>\n      <td>2017-01-01 00:00:00-05:00</td>\n    </tr>\n  </tbody>\n</table>\n</div>"
     },
     "metadata": {},
     "execution_count": 307
    }
   ],
   "source": [
    "# Cleaned Bike Data\n",
    "# We've reformatted the columns so that the station related columns are together\n",
    "\n",
    "bikeshare_df = bikeshare_df[['Trip Id', 'Start Time', 'End Time', 'Trip Duration', 'Start Station Id', 'Start Station Name', 'End Station Id', 'End Station Name', 'Start Latitude', 'Start Longitude', 'Start Capacity', 'End Latitude', 'End Longitude', 'End Capacity','User Type', 'Merge Time']]\n",
    "\n",
    "clean_bikeshare = bikeshare_df\n",
    "clean_bikeshare.head()"
   ]
  },
  {
   "cell_type": "code",
   "execution_count": 308,
   "metadata": {},
   "outputs": [
    {
     "output_type": "execute_result",
     "data": {
      "text/plain": [
       "'92.52%'"
      ]
     },
     "metadata": {},
     "execution_count": 308
    }
   ],
   "source": [
    "# Percentage of total data used\n",
    "\"{:.2%}\".format(len(clean_bikeshare)/(len(raw_bikeshare_2017_2018) + len(raw_bikeshare_2019_2020)))\n",
    "\n",
    "# In the end, we will be using 92.52% of the original raw bikeshare data between 2017~2020"
   ]
  },
  {
   "source": [
    "<h2> Weather Data </h2>"
   ],
   "cell_type": "markdown",
   "metadata": {}
  },
  {
   "cell_type": "code",
   "execution_count": 309,
   "metadata": {},
   "outputs": [],
   "source": [
    "files = os.listdir()\n",
    "textfile_list = [i for i in files if \"climate\" in i]"
   ]
  },
  {
   "cell_type": "code",
   "execution_count": 310,
   "metadata": {},
   "outputs": [
    {
     "output_type": "execute_result",
     "data": {
      "text/plain": [
       "   Longitude (x)  Latitude (y)         Station Name  Climate ID  \\\n",
       "0          -79.4         43.63  TORONTO CITY CENTRE     6158359   \n",
       "1          -79.4         43.63  TORONTO CITY CENTRE     6158359   \n",
       "2          -79.4         43.63  TORONTO CITY CENTRE     6158359   \n",
       "3          -79.4         43.63  TORONTO CITY CENTRE     6158359   \n",
       "4          -79.4         43.63  TORONTO CITY CENTRE     6158359   \n",
       "\n",
       "          Date/Time  Year  Month  Day   Time  Temp (°C)  ... Wind Spd Flag  \\\n",
       "0  2017-01-01 00:00  2017      1    1  00:00        1.5  ...           NaN   \n",
       "1  2017-01-01 01:00  2017      1    1  01:00        1.5  ...           NaN   \n",
       "2  2017-01-01 02:00  2017      1    1  02:00        1.0  ...           NaN   \n",
       "3  2017-01-01 03:00  2017      1    1  03:00        1.2  ...           NaN   \n",
       "4  2017-01-01 04:00  2017      1    1  04:00        1.3  ...           NaN   \n",
       "\n",
       "   Visibility (km) Visibility Flag  Stn Press (kPa) Stn Press Flag  Hmdx  \\\n",
       "0             16.1             NaN            99.81            NaN   NaN   \n",
       "1             16.1             NaN           100.01            NaN   NaN   \n",
       "2             16.1             NaN           100.14            NaN   NaN   \n",
       "3             16.1             NaN           100.32            NaN   NaN   \n",
       "4             16.1             NaN           100.48            NaN   NaN   \n",
       "\n",
       "  Hmdx Flag  Wind Chill Wind Chill Flag  Weather  \n",
       "0       NaN         NaN             NaN      NaN  \n",
       "1       NaN         NaN             NaN      NaN  \n",
       "2       NaN         NaN             NaN      NaN  \n",
       "3       NaN         NaN             NaN      NaN  \n",
       "4       NaN         NaN             NaN      NaN  \n",
       "\n",
       "[5 rows x 28 columns]"
      ],
      "text/html": "<div>\n<style scoped>\n    .dataframe tbody tr th:only-of-type {\n        vertical-align: middle;\n    }\n\n    .dataframe tbody tr th {\n        vertical-align: top;\n    }\n\n    .dataframe thead th {\n        text-align: right;\n    }\n</style>\n<table border=\"1\" class=\"dataframe\">\n  <thead>\n    <tr style=\"text-align: right;\">\n      <th></th>\n      <th>Longitude (x)</th>\n      <th>Latitude (y)</th>\n      <th>Station Name</th>\n      <th>Climate ID</th>\n      <th>Date/Time</th>\n      <th>Year</th>\n      <th>Month</th>\n      <th>Day</th>\n      <th>Time</th>\n      <th>Temp (°C)</th>\n      <th>...</th>\n      <th>Wind Spd Flag</th>\n      <th>Visibility (km)</th>\n      <th>Visibility Flag</th>\n      <th>Stn Press (kPa)</th>\n      <th>Stn Press Flag</th>\n      <th>Hmdx</th>\n      <th>Hmdx Flag</th>\n      <th>Wind Chill</th>\n      <th>Wind Chill Flag</th>\n      <th>Weather</th>\n    </tr>\n  </thead>\n  <tbody>\n    <tr>\n      <th>0</th>\n      <td>-79.4</td>\n      <td>43.63</td>\n      <td>TORONTO CITY CENTRE</td>\n      <td>6158359</td>\n      <td>2017-01-01 00:00</td>\n      <td>2017</td>\n      <td>1</td>\n      <td>1</td>\n      <td>00:00</td>\n      <td>1.5</td>\n      <td>...</td>\n      <td>NaN</td>\n      <td>16.1</td>\n      <td>NaN</td>\n      <td>99.81</td>\n      <td>NaN</td>\n      <td>NaN</td>\n      <td>NaN</td>\n      <td>NaN</td>\n      <td>NaN</td>\n      <td>NaN</td>\n    </tr>\n    <tr>\n      <th>1</th>\n      <td>-79.4</td>\n      <td>43.63</td>\n      <td>TORONTO CITY CENTRE</td>\n      <td>6158359</td>\n      <td>2017-01-01 01:00</td>\n      <td>2017</td>\n      <td>1</td>\n      <td>1</td>\n      <td>01:00</td>\n      <td>1.5</td>\n      <td>...</td>\n      <td>NaN</td>\n      <td>16.1</td>\n      <td>NaN</td>\n      <td>100.01</td>\n      <td>NaN</td>\n      <td>NaN</td>\n      <td>NaN</td>\n      <td>NaN</td>\n      <td>NaN</td>\n      <td>NaN</td>\n    </tr>\n    <tr>\n      <th>2</th>\n      <td>-79.4</td>\n      <td>43.63</td>\n      <td>TORONTO CITY CENTRE</td>\n      <td>6158359</td>\n      <td>2017-01-01 02:00</td>\n      <td>2017</td>\n      <td>1</td>\n      <td>1</td>\n      <td>02:00</td>\n      <td>1.0</td>\n      <td>...</td>\n      <td>NaN</td>\n      <td>16.1</td>\n      <td>NaN</td>\n      <td>100.14</td>\n      <td>NaN</td>\n      <td>NaN</td>\n      <td>NaN</td>\n      <td>NaN</td>\n      <td>NaN</td>\n      <td>NaN</td>\n    </tr>\n    <tr>\n      <th>3</th>\n      <td>-79.4</td>\n      <td>43.63</td>\n      <td>TORONTO CITY CENTRE</td>\n      <td>6158359</td>\n      <td>2017-01-01 03:00</td>\n      <td>2017</td>\n      <td>1</td>\n      <td>1</td>\n      <td>03:00</td>\n      <td>1.2</td>\n      <td>...</td>\n      <td>NaN</td>\n      <td>16.1</td>\n      <td>NaN</td>\n      <td>100.32</td>\n      <td>NaN</td>\n      <td>NaN</td>\n      <td>NaN</td>\n      <td>NaN</td>\n      <td>NaN</td>\n      <td>NaN</td>\n    </tr>\n    <tr>\n      <th>4</th>\n      <td>-79.4</td>\n      <td>43.63</td>\n      <td>TORONTO CITY CENTRE</td>\n      <td>6158359</td>\n      <td>2017-01-01 04:00</td>\n      <td>2017</td>\n      <td>1</td>\n      <td>1</td>\n      <td>04:00</td>\n      <td>1.3</td>\n      <td>...</td>\n      <td>NaN</td>\n      <td>16.1</td>\n      <td>NaN</td>\n      <td>100.48</td>\n      <td>NaN</td>\n      <td>NaN</td>\n      <td>NaN</td>\n      <td>NaN</td>\n      <td>NaN</td>\n      <td>NaN</td>\n    </tr>\n  </tbody>\n</table>\n<p>5 rows × 28 columns</p>\n</div>"
     },
     "metadata": {},
     "execution_count": 310
    }
   ],
   "source": [
    "# Importing the weather data\n",
    "\n",
    "temp_data = []\n",
    "\n",
    "for doc in textfile_list:\n",
    "    temp = pd.read_csv(doc)\n",
    "    temp_data.append(temp)\n",
    "\n",
    "raw_weather_df  = pd.concat(temp_data)\n",
    "raw_weather_df.head()"
   ]
  },
  {
   "cell_type": "code",
   "execution_count": 311,
   "metadata": {},
   "outputs": [
    {
     "output_type": "stream",
     "name": "stdout",
     "text": [
      "<class 'pandas.core.frame.DataFrame'>\nInt64Index: 35064 entries, 0 to 743\nData columns (total 28 columns):\n #   Column               Non-Null Count  Dtype  \n---  ------               --------------  -----  \n 0   Longitude (x)        35064 non-null  float64\n 1   Latitude (y)         35064 non-null  float64\n 2   Station Name         35064 non-null  object \n 3   Climate ID           35064 non-null  int64  \n 4   Date/Time            35064 non-null  object \n 5   Year                 35064 non-null  int64  \n 6   Month                35064 non-null  int64  \n 7   Day                  35064 non-null  int64  \n 8   Time                 35064 non-null  object \n 9   Temp (°C)            34605 non-null  float64\n 10  Temp Flag            89 non-null     object \n 11  Dew Point Temp (°C)  34556 non-null  float64\n 12  Dew Point Temp Flag  139 non-null    object \n 13  Rel Hum (%)          34564 non-null  float64\n 14  Rel Hum Flag         131 non-null    object \n 15  Wind Dir (10s deg)   32679 non-null  float64\n 16  Wind Dir Flag        1054 non-null   object \n 17  Wind Spd (km/h)      34680 non-null  float64\n 18  Wind Spd Flag        15 non-null     object \n 19  Visibility (km)      34673 non-null  float64\n 20  Visibility Flag      22 non-null     object \n 21  Stn Press (kPa)      34602 non-null  float64\n 22  Stn Press Flag       93 non-null     object \n 23  Hmdx                 5667 non-null   float64\n 24  Hmdx Flag            0 non-null      float64\n 25  Wind Chill           6066 non-null   float64\n 26  Wind Chill Flag      0 non-null      float64\n 27  Weather              5517 non-null   object \ndtypes: float64(13), int64(4), object(11)\nmemory usage: 7.8+ MB\n"
     ]
    }
   ],
   "source": [
    "# background information\n",
    "\n",
    "raw_weather_df.info()"
   ]
  },
  {
   "cell_type": "code",
   "execution_count": 312,
   "metadata": {},
   "outputs": [
    {
     "output_type": "execute_result",
     "data": {
      "text/plain": [
       "Longitude (x)              0\n",
       "Latitude (y)               0\n",
       "Station Name               0\n",
       "Climate ID                 0\n",
       "Date/Time                  0\n",
       "Year                       0\n",
       "Month                      0\n",
       "Day                        0\n",
       "Time                       0\n",
       "Temp (°C)                459\n",
       "Temp Flag              34975\n",
       "Dew Point Temp (°C)      508\n",
       "Dew Point Temp Flag    34925\n",
       "Rel Hum (%)              500\n",
       "Rel Hum Flag           34933\n",
       "Wind Dir (10s deg)      2385\n",
       "Wind Dir Flag          34010\n",
       "Wind Spd (km/h)          384\n",
       "Wind Spd Flag          35049\n",
       "Visibility (km)          391\n",
       "Visibility Flag        35042\n",
       "Stn Press (kPa)          462\n",
       "Stn Press Flag         34971\n",
       "Hmdx                   29397\n",
       "Hmdx Flag              35064\n",
       "Wind Chill             28998\n",
       "Wind Chill Flag        35064\n",
       "Weather                29547\n",
       "dtype: int64"
      ]
     },
     "metadata": {},
     "execution_count": 312
    }
   ],
   "source": [
    "# Let's check for missing volume\n",
    "# There seems to be many missing data in the weather measurements\n",
    "\n",
    "find_missing(raw_weather_df)"
   ]
  },
  {
   "cell_type": "code",
   "execution_count": 313,
   "metadata": {},
   "outputs": [
    {
     "output_type": "execute_result",
     "data": {
      "text/plain": [
       "array([nan, 'M'], dtype=object)"
      ]
     },
     "metadata": {},
     "execution_count": 313
    }
   ],
   "source": [
    "# After some research on what 'Flags' meant in the weather context, it was found to be the Flag Index that displays the status of the associated measurement\n",
    "# Ex: 'Dew Point Temp Flag' would be the 'Flag' for 'Dew Point Temp'\n",
    "# Reference: https://cran.r-project.org/web/packages/weathercan/vignettes/flags.html \n",
    "\n",
    "raw_weather_df['Dew Point Temp Flag'].unique()\n",
    "\n",
    "# 'M' in this case means 'Missing'"
   ]
  },
  {
   "cell_type": "code",
   "execution_count": 314,
   "metadata": {},
   "outputs": [],
   "source": [
    "# Since we know that there are 35064 entries in total, we can drop the columns that have all their data as Nan. These columns include 'Wind Chill Flag' and 'Hmdx Flag'\n",
    "# We will also drop any columns with \"Flag\" since no description was giving for what they meant in the project description. We also have the associated measurement columns so the Flags would be unecessary in our analysis\n",
    "\n",
    "weather_data = raw_weather_df.drop(['Temp Flag', 'Dew Point Temp Flag', 'Rel Hum Flag', 'Wind Dir Flag', 'Wind Spd Flag', 'Visibility Flag', 'Stn Press Flag', 'Hmdx Flag', 'Wind Chill Flag'], axis=1)"
   ]
  },
  {
   "cell_type": "code",
   "execution_count": 315,
   "metadata": {},
   "outputs": [
    {
     "output_type": "execute_result",
     "data": {
      "text/plain": [
       "Longitude (x)              0\n",
       "Latitude (y)               0\n",
       "Station Name               0\n",
       "Climate ID                 0\n",
       "Date/Time                  0\n",
       "Year                       0\n",
       "Month                      0\n",
       "Day                        0\n",
       "Time                       0\n",
       "Temp (°C)                459\n",
       "Dew Point Temp (°C)      508\n",
       "Rel Hum (%)              500\n",
       "Wind Dir (10s deg)      2385\n",
       "Wind Spd (km/h)          384\n",
       "Visibility (km)          391\n",
       "Stn Press (kPa)          462\n",
       "Hmdx                   29397\n",
       "Wind Chill             28998\n",
       "Weather                29547\n",
       "dtype: int64"
      ]
     },
     "metadata": {},
     "execution_count": 315
    }
   ],
   "source": [
    "# How many missing data left\n",
    "\n",
    "find_missing(weather_data)"
   ]
  },
  {
   "cell_type": "code",
   "execution_count": 316,
   "metadata": {},
   "outputs": [
    {
     "output_type": "execute_result",
     "data": {
      "text/plain": [
       "array([nan, 'Fog', 'Rain,Fog', 'Rain', 'Snow', 'Moderate Rain',\n",
       "       'Moderate Rain,Fog', 'Haze', 'Rain,Snow', 'Freezing Rain,Fog',\n",
       "       'Snow,Blowing Snow', 'Heavy Snow', 'Moderate Snow',\n",
       "       'Haze,Blowing Snow', 'Heavy Rain,Fog', 'Thunderstorms,Rain,Fog',\n",
       "       'Freezing Rain,Snow', 'Freezing Rain', 'Thunderstorms,Rain',\n",
       "       'Thunderstorms,Moderate Rain,Fog', 'Thunderstorms,Moderate Rain',\n",
       "       'Thunderstorms', 'Thunderstorms,Heavy Rain,Fog',\n",
       "       'Thunderstorms,Heavy Rain', 'Thunderstorms,Fog'], dtype=object)"
      ]
     },
     "metadata": {},
     "execution_count": 316
    }
   ],
   "source": [
    "# Looking at the weather, it seems that NaN would represent clear days, there may be other columns where NaN has a meaning\n",
    "# The full exploration of NaN and their inclusion in our model analysis will be included in the future notebooks of Exploratory Data Analysis\n",
    "\n",
    "weather_data['Weather'].unique()"
   ]
  },
  {
   "cell_type": "code",
   "execution_count": 317,
   "metadata": {},
   "outputs": [],
   "source": [
    "# Let's make the index be the 'Date/Time' and convert it to Eastern Time so that we can easily merge this dataset with the bikeshare data later\n",
    "\n",
    "weather_data.index = pd.DatetimeIndex(weather_data[\"Date/Time\"])\n",
    "weather_data = weather_data.drop(columns=[\"Date/Time\"], axis=1)\n",
    "weather_data.index = weather_data.index.tz_localize(tz='EST')"
   ]
  },
  {
   "cell_type": "code",
   "execution_count": 318,
   "metadata": {},
   "outputs": [
    {
     "output_type": "execute_result",
     "data": {
      "text/plain": [
       "                           Longitude (x)  Latitude (y)         Station Name  \\\n",
       "Date/Time                                                                     \n",
       "2017-01-01 00:00:00-05:00          -79.4         43.63  TORONTO CITY CENTRE   \n",
       "2017-01-01 01:00:00-05:00          -79.4         43.63  TORONTO CITY CENTRE   \n",
       "2017-01-01 02:00:00-05:00          -79.4         43.63  TORONTO CITY CENTRE   \n",
       "2017-01-01 03:00:00-05:00          -79.4         43.63  TORONTO CITY CENTRE   \n",
       "2017-01-01 04:00:00-05:00          -79.4         43.63  TORONTO CITY CENTRE   \n",
       "\n",
       "                           Climate ID  Year  Month  Day   Time  Temp (°C)  \\\n",
       "Date/Time                                                                   \n",
       "2017-01-01 00:00:00-05:00     6158359  2017      1    1  00:00        1.5   \n",
       "2017-01-01 01:00:00-05:00     6158359  2017      1    1  01:00        1.5   \n",
       "2017-01-01 02:00:00-05:00     6158359  2017      1    1  02:00        1.0   \n",
       "2017-01-01 03:00:00-05:00     6158359  2017      1    1  03:00        1.2   \n",
       "2017-01-01 04:00:00-05:00     6158359  2017      1    1  04:00        1.3   \n",
       "\n",
       "                           Dew Point Temp (°C)  Rel Hum (%)  \\\n",
       "Date/Time                                                     \n",
       "2017-01-01 00:00:00-05:00                 -3.6         69.0   \n",
       "2017-01-01 01:00:00-05:00                 -3.9         67.0   \n",
       "2017-01-01 02:00:00-05:00                 -4.3         68.0   \n",
       "2017-01-01 03:00:00-05:00                 -4.3         67.0   \n",
       "2017-01-01 04:00:00-05:00                 -4.4         66.0   \n",
       "\n",
       "                           Wind Dir (10s deg)  Wind Spd (km/h)  \\\n",
       "Date/Time                                                        \n",
       "2017-01-01 00:00:00-05:00                26.0             39.0   \n",
       "2017-01-01 01:00:00-05:00                27.0             35.0   \n",
       "2017-01-01 02:00:00-05:00                26.0             32.0   \n",
       "2017-01-01 03:00:00-05:00                26.0             37.0   \n",
       "2017-01-01 04:00:00-05:00                26.0             28.0   \n",
       "\n",
       "                           Visibility (km)  Stn Press (kPa)  Hmdx  Wind Chill  \\\n",
       "Date/Time                                                                       \n",
       "2017-01-01 00:00:00-05:00             16.1            99.81   NaN         NaN   \n",
       "2017-01-01 01:00:00-05:00             16.1           100.01   NaN         NaN   \n",
       "2017-01-01 02:00:00-05:00             16.1           100.14   NaN         NaN   \n",
       "2017-01-01 03:00:00-05:00             16.1           100.32   NaN         NaN   \n",
       "2017-01-01 04:00:00-05:00             16.1           100.48   NaN         NaN   \n",
       "\n",
       "                          Weather  \n",
       "Date/Time                          \n",
       "2017-01-01 00:00:00-05:00     NaN  \n",
       "2017-01-01 01:00:00-05:00     NaN  \n",
       "2017-01-01 02:00:00-05:00     NaN  \n",
       "2017-01-01 03:00:00-05:00     NaN  \n",
       "2017-01-01 04:00:00-05:00     NaN  "
      ],
      "text/html": "<div>\n<style scoped>\n    .dataframe tbody tr th:only-of-type {\n        vertical-align: middle;\n    }\n\n    .dataframe tbody tr th {\n        vertical-align: top;\n    }\n\n    .dataframe thead th {\n        text-align: right;\n    }\n</style>\n<table border=\"1\" class=\"dataframe\">\n  <thead>\n    <tr style=\"text-align: right;\">\n      <th></th>\n      <th>Longitude (x)</th>\n      <th>Latitude (y)</th>\n      <th>Station Name</th>\n      <th>Climate ID</th>\n      <th>Year</th>\n      <th>Month</th>\n      <th>Day</th>\n      <th>Time</th>\n      <th>Temp (°C)</th>\n      <th>Dew Point Temp (°C)</th>\n      <th>Rel Hum (%)</th>\n      <th>Wind Dir (10s deg)</th>\n      <th>Wind Spd (km/h)</th>\n      <th>Visibility (km)</th>\n      <th>Stn Press (kPa)</th>\n      <th>Hmdx</th>\n      <th>Wind Chill</th>\n      <th>Weather</th>\n    </tr>\n    <tr>\n      <th>Date/Time</th>\n      <th></th>\n      <th></th>\n      <th></th>\n      <th></th>\n      <th></th>\n      <th></th>\n      <th></th>\n      <th></th>\n      <th></th>\n      <th></th>\n      <th></th>\n      <th></th>\n      <th></th>\n      <th></th>\n      <th></th>\n      <th></th>\n      <th></th>\n      <th></th>\n    </tr>\n  </thead>\n  <tbody>\n    <tr>\n      <th>2017-01-01 00:00:00-05:00</th>\n      <td>-79.4</td>\n      <td>43.63</td>\n      <td>TORONTO CITY CENTRE</td>\n      <td>6158359</td>\n      <td>2017</td>\n      <td>1</td>\n      <td>1</td>\n      <td>00:00</td>\n      <td>1.5</td>\n      <td>-3.6</td>\n      <td>69.0</td>\n      <td>26.0</td>\n      <td>39.0</td>\n      <td>16.1</td>\n      <td>99.81</td>\n      <td>NaN</td>\n      <td>NaN</td>\n      <td>NaN</td>\n    </tr>\n    <tr>\n      <th>2017-01-01 01:00:00-05:00</th>\n      <td>-79.4</td>\n      <td>43.63</td>\n      <td>TORONTO CITY CENTRE</td>\n      <td>6158359</td>\n      <td>2017</td>\n      <td>1</td>\n      <td>1</td>\n      <td>01:00</td>\n      <td>1.5</td>\n      <td>-3.9</td>\n      <td>67.0</td>\n      <td>27.0</td>\n      <td>35.0</td>\n      <td>16.1</td>\n      <td>100.01</td>\n      <td>NaN</td>\n      <td>NaN</td>\n      <td>NaN</td>\n    </tr>\n    <tr>\n      <th>2017-01-01 02:00:00-05:00</th>\n      <td>-79.4</td>\n      <td>43.63</td>\n      <td>TORONTO CITY CENTRE</td>\n      <td>6158359</td>\n      <td>2017</td>\n      <td>1</td>\n      <td>1</td>\n      <td>02:00</td>\n      <td>1.0</td>\n      <td>-4.3</td>\n      <td>68.0</td>\n      <td>26.0</td>\n      <td>32.0</td>\n      <td>16.1</td>\n      <td>100.14</td>\n      <td>NaN</td>\n      <td>NaN</td>\n      <td>NaN</td>\n    </tr>\n    <tr>\n      <th>2017-01-01 03:00:00-05:00</th>\n      <td>-79.4</td>\n      <td>43.63</td>\n      <td>TORONTO CITY CENTRE</td>\n      <td>6158359</td>\n      <td>2017</td>\n      <td>1</td>\n      <td>1</td>\n      <td>03:00</td>\n      <td>1.2</td>\n      <td>-4.3</td>\n      <td>67.0</td>\n      <td>26.0</td>\n      <td>37.0</td>\n      <td>16.1</td>\n      <td>100.32</td>\n      <td>NaN</td>\n      <td>NaN</td>\n      <td>NaN</td>\n    </tr>\n    <tr>\n      <th>2017-01-01 04:00:00-05:00</th>\n      <td>-79.4</td>\n      <td>43.63</td>\n      <td>TORONTO CITY CENTRE</td>\n      <td>6158359</td>\n      <td>2017</td>\n      <td>1</td>\n      <td>1</td>\n      <td>04:00</td>\n      <td>1.3</td>\n      <td>-4.4</td>\n      <td>66.0</td>\n      <td>26.0</td>\n      <td>28.0</td>\n      <td>16.1</td>\n      <td>100.48</td>\n      <td>NaN</td>\n      <td>NaN</td>\n      <td>NaN</td>\n    </tr>\n  </tbody>\n</table>\n</div>"
     },
     "metadata": {},
     "execution_count": 318
    }
   ],
   "source": [
    "# Cleaned weather data\n",
    "\n",
    "clean_weather = weather_data\n",
    "clean_weather.head()"
   ]
  },
  {
   "source": [
    "<h2> Merge Bikeshare and Weather </h2>"
   ],
   "cell_type": "markdown",
   "metadata": {}
  },
  {
   "cell_type": "code",
   "execution_count": 319,
   "metadata": {},
   "outputs": [
    {
     "output_type": "execute_result",
     "data": {
      "text/plain": [
       "   Trip Id                 Start Time                   End Time  \\\n",
       "0   712441  2017-01-01 00:03:00-05:00  2017-01-01 00:08:00-05:00   \n",
       "1   712442  2017-01-01 00:03:00-05:00  2017-01-01 00:12:00-05:00   \n",
       "2   712443  2017-01-01 00:05:00-05:00  2017-01-01 00:22:00-05:00   \n",
       "3   712444  2017-01-01 00:09:00-05:00  2017-01-01 00:26:00-05:00   \n",
       "4   712445  2017-01-01 00:14:00-05:00  2017-01-01 00:25:00-05:00   \n",
       "\n",
       "   Trip Duration  Start Station Id  \\\n",
       "0            274              7006   \n",
       "1            538              7046   \n",
       "2            992              7048   \n",
       "3           1005              7177   \n",
       "4            645              7203   \n",
       "\n",
       "                              Start Station Name  End Station Id  \\\n",
       "0                Bay St / College St (East Side)            7021   \n",
       "1                     Niagara St / Richmond St W            7147   \n",
       "2      Front St / Yonge St (Hockey Hall of Fame)            7089   \n",
       "3                East Liberty St / Pirandello St            7202   \n",
       "4  Bathurst St/Queens Quay(Billy Bishop Airport)            7010   \n",
       "\n",
       "                   End Station Name  Start Latitude  Start Longitude  ...  \\\n",
       "0                Bay St / Albert St       43.660439       -79.385525  ...   \n",
       "1            King St W / Fraser Ave       43.645340       -79.409597  ...   \n",
       "2              Church St  / Wood St       43.646144       -79.377962  ...   \n",
       "3  Queen St W / York St (City Hall)       43.638611       -79.414722  ...   \n",
       "4           King St W / Spadina Ave       43.635492       -79.398253  ...   \n",
       "\n",
       "   Temp (°C)  Dew Point Temp (°C)  Rel Hum (%)  Wind Dir (10s deg)  \\\n",
       "0        1.5                 -3.6         69.0                26.0   \n",
       "1        1.5                 -3.6         69.0                26.0   \n",
       "2        1.5                 -3.6         69.0                26.0   \n",
       "3        1.5                 -3.6         69.0                26.0   \n",
       "4        1.5                 -3.6         69.0                26.0   \n",
       "\n",
       "  Wind Spd (km/h) Visibility (km)  Stn Press (kPa)  Hmdx Wind Chill  Weather  \n",
       "0            39.0            16.1            99.81   NaN        NaN      NaN  \n",
       "1            39.0            16.1            99.81   NaN        NaN      NaN  \n",
       "2            39.0            16.1            99.81   NaN        NaN      NaN  \n",
       "3            39.0            16.1            99.81   NaN        NaN      NaN  \n",
       "4            39.0            16.1            99.81   NaN        NaN      NaN  \n",
       "\n",
       "[5 rows x 34 columns]"
      ],
      "text/html": "<div>\n<style scoped>\n    .dataframe tbody tr th:only-of-type {\n        vertical-align: middle;\n    }\n\n    .dataframe tbody tr th {\n        vertical-align: top;\n    }\n\n    .dataframe thead th {\n        text-align: right;\n    }\n</style>\n<table border=\"1\" class=\"dataframe\">\n  <thead>\n    <tr style=\"text-align: right;\">\n      <th></th>\n      <th>Trip Id</th>\n      <th>Start Time</th>\n      <th>End Time</th>\n      <th>Trip Duration</th>\n      <th>Start Station Id</th>\n      <th>Start Station Name</th>\n      <th>End Station Id</th>\n      <th>End Station Name</th>\n      <th>Start Latitude</th>\n      <th>Start Longitude</th>\n      <th>...</th>\n      <th>Temp (°C)</th>\n      <th>Dew Point Temp (°C)</th>\n      <th>Rel Hum (%)</th>\n      <th>Wind Dir (10s deg)</th>\n      <th>Wind Spd (km/h)</th>\n      <th>Visibility (km)</th>\n      <th>Stn Press (kPa)</th>\n      <th>Hmdx</th>\n      <th>Wind Chill</th>\n      <th>Weather</th>\n    </tr>\n  </thead>\n  <tbody>\n    <tr>\n      <th>0</th>\n      <td>712441</td>\n      <td>2017-01-01 00:03:00-05:00</td>\n      <td>2017-01-01 00:08:00-05:00</td>\n      <td>274</td>\n      <td>7006</td>\n      <td>Bay St / College St (East Side)</td>\n      <td>7021</td>\n      <td>Bay St / Albert St</td>\n      <td>43.660439</td>\n      <td>-79.385525</td>\n      <td>...</td>\n      <td>1.5</td>\n      <td>-3.6</td>\n      <td>69.0</td>\n      <td>26.0</td>\n      <td>39.0</td>\n      <td>16.1</td>\n      <td>99.81</td>\n      <td>NaN</td>\n      <td>NaN</td>\n      <td>NaN</td>\n    </tr>\n    <tr>\n      <th>1</th>\n      <td>712442</td>\n      <td>2017-01-01 00:03:00-05:00</td>\n      <td>2017-01-01 00:12:00-05:00</td>\n      <td>538</td>\n      <td>7046</td>\n      <td>Niagara St / Richmond St W</td>\n      <td>7147</td>\n      <td>King St W / Fraser Ave</td>\n      <td>43.645340</td>\n      <td>-79.409597</td>\n      <td>...</td>\n      <td>1.5</td>\n      <td>-3.6</td>\n      <td>69.0</td>\n      <td>26.0</td>\n      <td>39.0</td>\n      <td>16.1</td>\n      <td>99.81</td>\n      <td>NaN</td>\n      <td>NaN</td>\n      <td>NaN</td>\n    </tr>\n    <tr>\n      <th>2</th>\n      <td>712443</td>\n      <td>2017-01-01 00:05:00-05:00</td>\n      <td>2017-01-01 00:22:00-05:00</td>\n      <td>992</td>\n      <td>7048</td>\n      <td>Front St / Yonge St (Hockey Hall of Fame)</td>\n      <td>7089</td>\n      <td>Church St  / Wood St</td>\n      <td>43.646144</td>\n      <td>-79.377962</td>\n      <td>...</td>\n      <td>1.5</td>\n      <td>-3.6</td>\n      <td>69.0</td>\n      <td>26.0</td>\n      <td>39.0</td>\n      <td>16.1</td>\n      <td>99.81</td>\n      <td>NaN</td>\n      <td>NaN</td>\n      <td>NaN</td>\n    </tr>\n    <tr>\n      <th>3</th>\n      <td>712444</td>\n      <td>2017-01-01 00:09:00-05:00</td>\n      <td>2017-01-01 00:26:00-05:00</td>\n      <td>1005</td>\n      <td>7177</td>\n      <td>East Liberty St / Pirandello St</td>\n      <td>7202</td>\n      <td>Queen St W / York St (City Hall)</td>\n      <td>43.638611</td>\n      <td>-79.414722</td>\n      <td>...</td>\n      <td>1.5</td>\n      <td>-3.6</td>\n      <td>69.0</td>\n      <td>26.0</td>\n      <td>39.0</td>\n      <td>16.1</td>\n      <td>99.81</td>\n      <td>NaN</td>\n      <td>NaN</td>\n      <td>NaN</td>\n    </tr>\n    <tr>\n      <th>4</th>\n      <td>712445</td>\n      <td>2017-01-01 00:14:00-05:00</td>\n      <td>2017-01-01 00:25:00-05:00</td>\n      <td>645</td>\n      <td>7203</td>\n      <td>Bathurst St/Queens Quay(Billy Bishop Airport)</td>\n      <td>7010</td>\n      <td>King St W / Spadina Ave</td>\n      <td>43.635492</td>\n      <td>-79.398253</td>\n      <td>...</td>\n      <td>1.5</td>\n      <td>-3.6</td>\n      <td>69.0</td>\n      <td>26.0</td>\n      <td>39.0</td>\n      <td>16.1</td>\n      <td>99.81</td>\n      <td>NaN</td>\n      <td>NaN</td>\n      <td>NaN</td>\n    </tr>\n  </tbody>\n</table>\n<p>5 rows × 34 columns</p>\n</div>"
     },
     "metadata": {},
     "execution_count": 319
    }
   ],
   "source": [
    "# We will merge the weather data using the 'Merge Time' of each bikershare trip with the 'Date/Time' index of the weather data. \n",
    "\n",
    "clean_bikeshare['Merge Time'] = pd.to_datetime(clean_bikeshare['Merge Time'], utc=True).dt.tz_convert('US/Eastern')\n",
    "data_merged = pd.merge(clean_bikeshare, clean_weather, how = 'left', left_on = 'Merge Time', right_on = 'Date/Time')\n",
    "\n",
    "data_merged.head()"
   ]
  },
  {
   "cell_type": "code",
   "execution_count": 320,
   "metadata": {},
   "outputs": [
    {
     "output_type": "execute_result",
     "data": {
      "text/plain": [
       "   Trip Id  Subscription Id  Bike Id                Start Time  \\\n",
       "0  4581278           199751     1296 2019-01-01 00:08:00-05:00   \n",
       "1  4581279           294730     2947 2019-01-01 00:10:00-05:00   \n",
       "2  4581280           197252     2293 2019-01-01 00:15:00-05:00   \n",
       "3  4581281           171700      283 2019-01-01 00:16:00-05:00   \n",
       "4  4581282           306314     1799 2019-01-01 00:19:00-05:00   \n",
       "\n",
       "                   End Time  Trip Duration  Start Station Id  \\\n",
       "0 2019-01-01 00:33:00-05:00           1547              7021   \n",
       "1 2019-01-01 00:29:00-05:00           1112              7160   \n",
       "2 2019-01-01 00:25:00-05:00            589              7055   \n",
       "3 2019-01-01 00:20:00-05:00            259              7012   \n",
       "4 2019-01-01 00:24:00-05:00            281              7041   \n",
       "\n",
       "                        Start Station Name  End Station Id  \\\n",
       "0                       Bay St / Albert St            7233   \n",
       "1                 King St W / Tecumseth St            7051   \n",
       "2                   Jarvis St / Carlton St            7013   \n",
       "3  Elizabeth St / Edward St (Bus Terminal)            7235   \n",
       "4                     Edward St / Yonge St            7257   \n",
       "\n",
       "                          End Station Name  ... Temp (°C) Dew Point Temp (°C)  \\\n",
       "0                 King / Cowan Ave - SMART  ...       4.3                 4.0   \n",
       "1      Wellesley St E / Yonge St (Green P)  ...       4.3                 4.0   \n",
       "2                 Scott St / The Esplanade  ...       4.3                 4.0   \n",
       "3  Bay St / College St (West Side) - SMART  ...       4.3                 4.0   \n",
       "4             Dundas St W / St. Patrick St  ...       4.3                 4.0   \n",
       "\n",
       "   Rel Hum (%)  Wind Dir (10s deg) Wind Spd (km/h)  Visibility (km)  \\\n",
       "0         98.0                 8.0            11.0              4.8   \n",
       "1         98.0                 8.0            11.0              4.8   \n",
       "2         98.0                 8.0            11.0              4.8   \n",
       "3         98.0                 8.0            11.0              4.8   \n",
       "4         98.0                 8.0            11.0              4.8   \n",
       "\n",
       "   Stn Press (kPa)  Hmdx  Wind Chill   Weather  \n",
       "0            98.49   NaN         NaN  Rain,Fog  \n",
       "1            98.49   NaN         NaN  Rain,Fog  \n",
       "2            98.49   NaN         NaN  Rain,Fog  \n",
       "3            98.49   NaN         NaN  Rain,Fog  \n",
       "4            98.49   NaN         NaN  Rain,Fog  \n",
       "\n",
       "[5 rows x 30 columns]"
      ],
      "text/html": "<div>\n<style scoped>\n    .dataframe tbody tr th:only-of-type {\n        vertical-align: middle;\n    }\n\n    .dataframe tbody tr th {\n        vertical-align: top;\n    }\n\n    .dataframe thead th {\n        text-align: right;\n    }\n</style>\n<table border=\"1\" class=\"dataframe\">\n  <thead>\n    <tr style=\"text-align: right;\">\n      <th></th>\n      <th>Trip Id</th>\n      <th>Subscription Id</th>\n      <th>Bike Id</th>\n      <th>Start Time</th>\n      <th>End Time</th>\n      <th>Trip Duration</th>\n      <th>Start Station Id</th>\n      <th>Start Station Name</th>\n      <th>End Station Id</th>\n      <th>End Station Name</th>\n      <th>...</th>\n      <th>Temp (°C)</th>\n      <th>Dew Point Temp (°C)</th>\n      <th>Rel Hum (%)</th>\n      <th>Wind Dir (10s deg)</th>\n      <th>Wind Spd (km/h)</th>\n      <th>Visibility (km)</th>\n      <th>Stn Press (kPa)</th>\n      <th>Hmdx</th>\n      <th>Wind Chill</th>\n      <th>Weather</th>\n    </tr>\n  </thead>\n  <tbody>\n    <tr>\n      <th>0</th>\n      <td>4581278</td>\n      <td>199751</td>\n      <td>1296</td>\n      <td>2019-01-01 00:08:00-05:00</td>\n      <td>2019-01-01 00:33:00-05:00</td>\n      <td>1547</td>\n      <td>7021</td>\n      <td>Bay St / Albert St</td>\n      <td>7233</td>\n      <td>King / Cowan Ave - SMART</td>\n      <td>...</td>\n      <td>4.3</td>\n      <td>4.0</td>\n      <td>98.0</td>\n      <td>8.0</td>\n      <td>11.0</td>\n      <td>4.8</td>\n      <td>98.49</td>\n      <td>NaN</td>\n      <td>NaN</td>\n      <td>Rain,Fog</td>\n    </tr>\n    <tr>\n      <th>1</th>\n      <td>4581279</td>\n      <td>294730</td>\n      <td>2947</td>\n      <td>2019-01-01 00:10:00-05:00</td>\n      <td>2019-01-01 00:29:00-05:00</td>\n      <td>1112</td>\n      <td>7160</td>\n      <td>King St W / Tecumseth St</td>\n      <td>7051</td>\n      <td>Wellesley St E / Yonge St (Green P)</td>\n      <td>...</td>\n      <td>4.3</td>\n      <td>4.0</td>\n      <td>98.0</td>\n      <td>8.0</td>\n      <td>11.0</td>\n      <td>4.8</td>\n      <td>98.49</td>\n      <td>NaN</td>\n      <td>NaN</td>\n      <td>Rain,Fog</td>\n    </tr>\n    <tr>\n      <th>2</th>\n      <td>4581280</td>\n      <td>197252</td>\n      <td>2293</td>\n      <td>2019-01-01 00:15:00-05:00</td>\n      <td>2019-01-01 00:25:00-05:00</td>\n      <td>589</td>\n      <td>7055</td>\n      <td>Jarvis St / Carlton St</td>\n      <td>7013</td>\n      <td>Scott St / The Esplanade</td>\n      <td>...</td>\n      <td>4.3</td>\n      <td>4.0</td>\n      <td>98.0</td>\n      <td>8.0</td>\n      <td>11.0</td>\n      <td>4.8</td>\n      <td>98.49</td>\n      <td>NaN</td>\n      <td>NaN</td>\n      <td>Rain,Fog</td>\n    </tr>\n    <tr>\n      <th>3</th>\n      <td>4581281</td>\n      <td>171700</td>\n      <td>283</td>\n      <td>2019-01-01 00:16:00-05:00</td>\n      <td>2019-01-01 00:20:00-05:00</td>\n      <td>259</td>\n      <td>7012</td>\n      <td>Elizabeth St / Edward St (Bus Terminal)</td>\n      <td>7235</td>\n      <td>Bay St / College St (West Side) - SMART</td>\n      <td>...</td>\n      <td>4.3</td>\n      <td>4.0</td>\n      <td>98.0</td>\n      <td>8.0</td>\n      <td>11.0</td>\n      <td>4.8</td>\n      <td>98.49</td>\n      <td>NaN</td>\n      <td>NaN</td>\n      <td>Rain,Fog</td>\n    </tr>\n    <tr>\n      <th>4</th>\n      <td>4581282</td>\n      <td>306314</td>\n      <td>1799</td>\n      <td>2019-01-01 00:19:00-05:00</td>\n      <td>2019-01-01 00:24:00-05:00</td>\n      <td>281</td>\n      <td>7041</td>\n      <td>Edward St / Yonge St</td>\n      <td>7257</td>\n      <td>Dundas St W / St. Patrick St</td>\n      <td>...</td>\n      <td>4.3</td>\n      <td>4.0</td>\n      <td>98.0</td>\n      <td>8.0</td>\n      <td>11.0</td>\n      <td>4.8</td>\n      <td>98.49</td>\n      <td>NaN</td>\n      <td>NaN</td>\n      <td>Rain,Fog</td>\n    </tr>\n  </tbody>\n</table>\n<p>5 rows × 30 columns</p>\n</div>"
     },
     "metadata": {},
     "execution_count": 320
    }
   ],
   "source": [
    "# Do the same with only 2019~2020\n",
    "\n",
    "only_2019_2020['Merge Time'] = pd.to_datetime(only_2019_2020['Merge Time'], utc=True).dt.tz_convert('US/Eastern')\n",
    "\n",
    "only_2019_2020 = pd.merge(only_2019_2020, clean_weather, how = 'left', left_on = 'Merge Time', right_on = 'Date/Time')\n",
    "\n",
    "only_2019_2020.head()"
   ]
  },
  {
   "source": [
    "<h2> Exporting Cleaned Data to .csv </h3>"
   ],
   "cell_type": "markdown",
   "metadata": {}
  },
  {
   "cell_type": "code",
   "execution_count": 321,
   "metadata": {},
   "outputs": [],
   "source": [
    "# data_merged.to_csv('clean_data.csv')\n",
    "\n",
    "# only_2019_2020"
   ]
  },
  {
   "source": [
    "<h2> Summary Observations </h3>"
   ],
   "cell_type": "markdown",
   "metadata": {}
  },
  {
   "source": [
    "*Between the years of 2018 and 2019, there may be have been a system change because many of the data structure were different. Here are some questions and suggestions we have for \n",
    "\n",
    "1. The column names were different between 2017~2018 and 2019~2020, why was that? It is better to keep the column names the same each year to be consistent. \n",
    "\n",
    "2. The trip recording times were in different time zones. In 2017~2018 it was recorded in UTC time while in 2019~2020 it was recorded in EST, why is there a disparity? It is better to keep both time zones consistent so easy comparisions and research can be made.\n",
    "\n",
    "3. The bikeshare trip data stations had a different naming scheme than the bikeshare stations. This was the biggest issue we found. There should be only one unique name for each bikeshare so that there would not be confusion when going through the data. There were many station datapoints that were intially missing due to the station names not exactly missing. It was only through matching the station Id and the intersection did we finally find the missing data.\n",
    "\n",
    "4. In the bikeshare data there were a few datapoints that had a station name at an intersection where 2 or more stations exist. Without naming the exact side such as \"University Ave / College St. (East)\" vs. \"University Ave / College St. (West), it was impossible for us to determine which station did the datapoint belong to\n",
    "\n",
    "5. There were some recorded trips on station data that did not exist. Bikeshare should ensure that all geographical station data are recorded.\n",
    "\n",
    "6. The City of Toronto should check the humidex and windchill sensors since they are missing 80% of the numerical measurements between 2017~2020.*"
   ],
   "cell_type": "markdown",
   "metadata": {}
  }
 ]
}